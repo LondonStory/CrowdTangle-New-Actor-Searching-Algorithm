{
  "cells": [
    {
      "cell_type": "markdown",
      "metadata": {
        "id": "EjXsp9nK7MtA"
      },
      "source": [
        "# **Automated URL validator - Checking whether a website URL exists or not**"
      ]
    },
    {
      "cell_type": "markdown",
      "metadata": {
        "id": "aEZvWaoKc_Sd"
      },
      "source": [
        "\n",
        "\n",
        "**Goal:** Given a list of URLs, we want to validate whether the website links exist or not"
      ]
    },
    {
      "cell_type": "markdown",
      "metadata": {
        "id": "9pH2_aOzdzGc"
      },
      "source": [
        "## Import Libraries"
      ]
    },
    {
      "cell_type": "code",
      "execution_count": 3,
      "metadata": {
        "id": "s9MCEOeG2DK4"
      },
      "outputs": [],
      "source": [
        "import pandas as pd\n",
        "import requests"
      ]
    },
    {
      "cell_type": "markdown",
      "metadata": {
        "id": "H3fcMM38hh25"
      },
      "source": [
        "## Load CrowdTangle dataset "
      ]
    },
    {
      "cell_type": "code",
      "execution_count": 4,
      "metadata": {
        "colab": {
          "base_uri": "https://localhost:8080/"
        },
        "id": "gouoLzz9hrij",
        "outputId": "ec301630-e5da-474f-deed-e91a57a16ea7"
      },
      "outputs": [
        {
          "output_type": "stream",
          "name": "stdout",
          "text": [
            "Mounted at /content/drive\n"
          ]
        }
      ],
      "source": [
        "from google.colab import drive\n",
        "drive.mount('/content/drive')"
      ]
    },
    {
      "cell_type": "code",
      "execution_count": 5,
      "metadata": {
        "id": "eiaHs_EIjfyp"
      },
      "outputs": [],
      "source": [
        "import os\n",
        "os.chdir(\"/content/drive/MyDrive/PATH_TO_THE_DIRECTORY\")"
      ]
    },
    {
      "cell_type": "code",
      "execution_count": 26,
      "metadata": {
        "id": "6vzoPX64h6sw",
        "colab": {
          "base_uri": "https://localhost:8080/"
        },
        "outputId": "a3dfbb74-beea-40df-f610-8033d01412be"
      },
      "outputs": [
        {
          "output_type": "stream",
          "name": "stderr",
          "text": [
            "/usr/local/lib/python3.7/dist-packages/IPython/core/interactiveshell.py:2882: FutureWarning: The error_bad_lines argument has been deprecated and will be removed in a future version.\n",
            "\n",
            "\n",
            "  exec(code_obj, self.user_global_ns, self.user_ns)\n"
          ]
        }
      ],
      "source": [
        "csv_data = pd.read_csv(\"FILE_NAME.csv\", low_memory=False,  lineterminator='\\n', sep=';', error_bad_lines=False)"
      ]
    },
    {
      "cell_type": "code",
      "execution_count": 27,
      "metadata": {
        "colab": {
          "base_uri": "https://localhost:8080/"
        },
        "id": "8Yv5XBIOkxy4",
        "outputId": "b08d220b-312c-493e-fac1-3501e0ce420b"
      },
      "outputs": [
        {
          "output_type": "execute_result",
          "data": {
            "text/plain": [
              "(315169, 40)"
            ]
          },
          "metadata": {},
          "execution_count": 27
        }
      ],
      "source": [
        "csv_data.shape"
      ]
    },
    {
      "cell_type": "code",
      "execution_count": 8,
      "metadata": {
        "colab": {
          "base_uri": "https://localhost:8080/"
        },
        "id": "uHNiF9fGk_H4",
        "outputId": "4b4888f1-7e9f-4674-aff1-90a122728aaa"
      },
      "outputs": [
        {
          "output_type": "execute_result",
          "data": {
            "text/plain": [
              "Index(['account.name', 'account.handle', 'platformId', 'Page Category',\n",
              "       'Page Admin Top Country', 'Page Description', 'Page Created',\n",
              "       'subscriberCount', 'Followers at Posting', 'date', 'Post Created Date',\n",
              "       'Post Created Time', 'type', 'totalInteraction',\n",
              "       'statistics.actual.likeCount', 'statistics.actual.commentCount',\n",
              "       'statistics.actual.shareCount', 'statistics.actual.loveCount',\n",
              "       'statistics.actual.wowCount', 'statistics.actual.hahaCount',\n",
              "       'statistics.actual.sadCount', 'statistics.actual.angryCount',\n",
              "       'statistics.actual.careCount', 'Video Share Status', 'Is Video Owner?',\n",
              "       'statistics.actual.videoPostViewCount',\n",
              "       'statistics.actual.videoTotalViewCount',\n",
              "       'statistics.actual.videoAllCrosspostsViewCount', 'Video Length',\n",
              "       'postUrl', 'message', 'expandedLinks.original',\n",
              "       'expandedLinks.expanded', 'imageText', 'title', 'description',\n",
              "       'brandedContentSponsor.platformId', 'brandedContentSponsor.name',\n",
              "       'brandedContentSponsor.category', 'score'],\n",
              "      dtype='object')"
            ]
          },
          "metadata": {},
          "execution_count": 8
        }
      ],
      "source": [
        "csv_data.columns"
      ]
    },
    {
      "cell_type": "markdown",
      "metadata": {
        "id": "vYbZNXCmlSqQ"
      },
      "source": [
        "## Pre-processing of the dataset"
      ]
    },
    {
      "cell_type": "markdown",
      "source": [
        "Let us identify the top links/URLs present in the dataset"
      ],
      "metadata": {
        "id": "dQEPO5cR8QPx"
      }
    },
    {
      "cell_type": "code",
      "execution_count": 28,
      "metadata": {
        "colab": {
          "base_uri": "https://localhost:8080/"
        },
        "id": "UlSo8p8flWcM",
        "outputId": "8a92c8da-b4b5-4182-bdb6-032f21d1dd0d"
      },
      "outputs": [
        {
          "output_type": "execute_result",
          "data": {
            "text/plain": [
              "https://www.facebook.com/hanumansinghsirana/videos/1951535514949751/                              28\n",
              "http://www.akhandbharatimes.com/                                                                  20\n",
              "https://janganapp.page.link/X42f                                                                  19\n",
              "https://www.facebook.com/pushpendrakuldelhi001/videos/332266691549294/                            15\n",
              "https://sachkhabar.co.in/now-biden-wants-modis-help-immediately-only-india-can-save-the-world/    13\n",
              "                                                                                                  ..\n",
              "https://www.facebook.com/pradeepBhajpa/videos/434140024317184/                                     1\n",
              "https://www.facebook.com/photo.php?fbid=1844342252408908&set=p.1844342252408908&type=3             1\n",
              "https://www.facebook.com/photo.php?fbid=2086761884799509&set=gm.2009189855886754&type=3            1\n",
              "https://www.facebook.com/203867673485517/photos/a.203869050152046/952309761974634/?type=3          1\n",
              "https://www.facebook.com/ProudToBeHindu.org/photos/a.425595337513853/1515651375174905/?type=3      1\n",
              "Name: expandedLinks.original, Length: 237746, dtype: int64"
            ]
          },
          "metadata": {},
          "execution_count": 28
        }
      ],
      "source": [
        "# top links \n",
        "csv_data ['expandedLinks.original'].value_counts()"
      ]
    },
    {
      "cell_type": "markdown",
      "source": [
        "Select a sub-set of the top URLs"
      ],
      "metadata": {
        "id": "9feWsM5q8Y7B"
      }
    },
    {
      "cell_type": "code",
      "execution_count": 34,
      "metadata": {
        "colab": {
          "base_uri": "https://localhost:8080/"
        },
        "id": "ZTzZgXhSvGKT",
        "outputId": "f09a1ee2-fab5-4ae4-e1c2-d63085d2f0aa"
      },
      "outputs": [
        {
          "output_type": "stream",
          "name": "stdout",
          "text": [
            "https://www.facebook.com/hanumansinghsirana/videos/1951535514949751/\n",
            "http://www.akhandbharatimes.com/\n",
            "https://janganapp.page.link/X42f\n",
            "https://www.facebook.com/pushpendrakuldelhi001/videos/332266691549294/\n",
            "https://sachkhabar.co.in/now-biden-wants-modis-help-immediately-only-india-can-save-the-world/\n",
            "https://www.facebook.com/251541358337843\n",
            "https://sachkhabar.co.in/modi-governments-big-blow-to-zakir-naik/\n",
            "https://www.facebook.com/462116500605383\n",
            "https://khabarbharattak.com/rohingya-go-back-to-myanmar/\n",
            "https://khabarbharattak.com/due-to-this-big-belief-mukesh-ambani-got-200-years-old-olive-trees-for-his-house-know-why/\n",
            "https://khabarbharattak.com/these-bollywood-stars-whose-marriage-was-broken-in-a-few-years-some-for-9-months-and-some-for-2-years-see-the-full-list/\n",
            "https://khabarbharattak.com/karan-johar-asked-kajol-what-would-you-do-if-your-daughter-ran-away-with-shahrukh-khans-son-kajol-gave-this-funny-answer/\n",
            "https://appearnews.com/ambesy/\n",
            "https://khabarbharattak.com/bobby-deols-son-gives-tough-competition-to-shahrukh-khans-son-aryan-khan-in-terms-of-smartness-see-photos/\n",
            "http://www.bhagwaswayamsevaksangh.org/\n",
            "https://appearnews.com/social-media-bride-video/\n",
            "https://khabarbharattak.com/5-jokes-in-hindi/\n",
            "https://khabarbharattak.com/rss-gave-command-of-ram-temple-to-bhaiyyaji-joshi/\n",
            "https://appearnews.com/interview-question-1/\n",
            "https://khabarbharattak.com/149-year-olds-darbar-move-tradition-ended-in-jammu-and-kashmir-due-to-pm-modi-and-amit-shah/\n",
            "https://appearnews.com/7-jokes/\n",
            "https://khabarbharattak.com/will-rohit-sardana-be-honored-with-the-padma-shri-award/\n",
            "https://appearnews.com/10-question-interview/\n",
            "https://khabarbharattak.com/ians-c-voter-survey/\n",
            "https://khabarbharattak.com/is-the-entire-pakistan-border-being-sealed-with-israel-technology-laser-at-a-cost-of-rs-76-thousand-crore/\n",
            "https://khabarbharattak.com/times-now-initial-opinion-poll-on-upcoming-up-elections/\n",
            "https://khabarbharattak.com/hot-and-romantic-pictures-of-taarak-mehtas-bhide-masters-daughter-sonu-in-black-bra-became-increasingly-viral-on-social-media/\n",
            "https://twitter.com/Updesh_143?s=09\n",
            "https://khabarbharattak.com/sapna-choudharys-sons-name-is-porus/\n",
            "https://www.facebook.com/pushpendrakuldelhi001/videos/230106268824593/\n",
            "https://khabarbharattak.com/swara-bhaskar-was-opposing-caa-and-nrc-hence-removed-from-the-brand/\n",
            "https://www.facebook.com/prakharshri78/videos/212570273284867/\n",
            "https://www.facebook.com/pushpendrakuldelhi001/videos/785586485362779/\n",
            "https://khabarbharattak.com/know-how-govinda-became-superstar-sadhvi-mother-became-muslim-after-birth-father-had-refused-to-adopt/\n",
            "https://sachkhabar.co.in/ravish-kumar-vinod-dua-patel-par-sikayat-derz/\n",
            "https://www.facebook.com/Pushpendrarss/videos/298905088575270/\n",
            "https://khabarbharattak.com/diwan-of-ajmer-sharif-dargah-praises-pm-modi/\n",
            "https://www.facebook.com/pushpendrakuldelhi001/videos/1050655858771279/\n",
            "https://www.facebook.com/pushpendrakuldelhi001/videos/2875021289448001/\n",
            "https://www.facebook.com/pushpendrakuldelhi001/videos/121072063259183/\n",
            "https://www.facebook.com/hrashtrashakti/videos/743586506576360/\n",
            "https://khabarbharattak.com/mamata-banerjee-made-only-minorities-sub-inspector-in-bengal/\n",
            "https://khabarbharattak.com/ram-mandir-janmabhumi-sanjay-singh-priyanka-gandhi/\n",
            "https://khabarbharattak.com/4-women-from-kerala-will-not-be-allowed-to-come-to-india-know-what-is-the-matter/\n",
            "https://khabarbharattak.com/kripashankar-singh-joins-bjp/\n",
            "https://udaanupdates.com/2021/06/30/duplicate-dayaben-of-taarak-mehta-ka-ooltah-chashmah-created-a-ruckus-jethalal-was-also-called-a-cheat/\n",
            "https://www.facebook.com/PushpendraKulshresthaDelhi/videos/266282337948942/\n",
            "https://www.facebook.com/DOpolitics.in/videos/4437493519691663/\n",
            "https://khabarbharattak.com/cm-yogi-to-arnab-goswami-said-i-am-not-a-traditional-politician-politics-is-not-everything/\n",
            "https://youtu.be/Ed_chF4kz_4\n",
            "https://www.facebook.com/PushpendraKulshresthaDelhi/videos/437904210851380/\n",
            "https://khabarbharattak.com/it-is-not-badrinath-it-is-badruddin-shah-video-viral/\n",
            "https://appearnews.com/sameer-wankhede-gets-big-relief-from-bombay-high-court-know-what/\n",
            "https://appearnews.com/interview-question-which-vegetable-is-this-inside-which-is-hidden-one-language-one-district-and-one-country/\n",
            "https://appearnews.com/army-chopper-crashes-in-tamilnadu-than-social-media-reaction/\n",
            "https://sachkhabar.co.in/sighu-border-kisan/\n",
            "https://sachkhabar.co.in/aryan-friend-was-making-revelations-outside-the-jail/\n",
            "https://khabarbharattak.com/10-year-old-palestinian-girl-video-goes-viral/\n",
            "https://sachkhabar.co.in/bhagyashree-cried-for-hours-before-doing-a-scene-with-salan-khan/\n",
            "https://www.crowdkash.com/campaign/1075/support-family-of-rinku-sharma\n",
            "https://sachkhabar.co.in/yogi-government-has-given-3-indications-what-is-telling-that-after-kashi-ayodhya-is-preparing-for-mathura/\n",
            "https://khabarbharattak.com/pakistan-media-pm-narendra-modi-beard-astrologer/\n",
            "https://www.facebook.com/pushpendrakuldelhi001/videos/421998275709744/\n",
            "https://appearnews.com/news-12/\n",
            "https://khabarbharattak.com/haryana-cm-held-high-level-meeting/\n",
            "https://www.facebook.com/pushpendrakuldelhi001/videos/320168522444135/\n",
            "https://sachkhabar.co.in/for-the-first-time-this-has-happened-when-both-bjp-and-congress-have-become-one-on-any-issue/\n",
            "https://khabarbharattak.com/twitter-separated-jammu-and-kashmir-from-india-rubika-liaquat-replied/\n",
            "https://udaanupdates.com/2021/06/27/michael-jackson-dancing-moves/\n",
            "https://udaanupdates.com/2021/06/28/watch-nita-ambanis-230-crore-private-jet-is-no-less-than-a-palace/\n",
            "https://udaanupdates.com/2021/06/26/raj-thackeray-and-sonali-bendre-affair/\n",
            "https://udaanupdates.com/2021/06/30/such-a-tree-on-which-121-species-of-mangoes-know-the-names-of-the-species/\n",
            "https://udaanupdates.com/2021/06/29/whoever-did-this-secret-remedy-on-tuesday-changed-his-life/\n",
            "https://sachkhabar.co.in/all-the-three-agricultural-laws-are-not-ending-only-their-form-is-changing/\n",
            "https://udaanupdates.com/2021/06/24/seeing-the-new-photo-of-smriti-irani-the-fans-went-crazy-and-said-tulsi-has-returned/\n",
            "https://khabarbharattak.com/amit-shahs-big-decision-regarding-sameer-wankhede-amit-shah-is-being-praised-everywhere/\n",
            "https://sachkhabar.co.in/amit-shah-is-in-active-mode-regarding-jammu-and-kashmir/\n",
            "https://www.facebook.com/pushpendrakuldelhi001/videos/163431302248852/\n",
            "https://khabarbharattak.com/ramayana-nishad-raj-passes-away/\n",
            "https://sachkhabar.co.in/delhi-low-floor-bus-purchase-news/\n",
            "https://khabarbharattak.com/know-why-a-monk-kissed-shilpa-shetty/\n",
            "https://khabarbharattak.com/this-was-the-big-reason-revealed-due-to-which-karishma-and-kareena-were-not-seen-together-in-any-film/\n",
            "https://khabarbharattak.com/muslim-nikah-is-an-agreement-and-it-is-not-a-sacrament-like-hindu-marriage-karnataka-high-court/\n",
            "https://khabarbharattak.com/watch-video-how-people-steal-your-amazon-delivery-the-video-is-going-viral-on-the-internet/\n",
            "https://khabarbharattak.com/failed-bharat-bandh/\n",
            "https://sachkhabar.co.in/a-decision-of-modi-government-is-going-to-give-breath-to-the-opponents-of-india/\n",
            "https://khabarbharattak.com/babita-ji-and-varun-dhawan-were-seen-in-each-others-arms-romantic-picture-of-both-leaked-created-a-ruckus/\n",
            "https://www.facebook.com/pushpendrakuldelhi001/videos/373444140494423/\n",
            "https://sachkhabar.co.in/russia-india-or-ocus-alliance/\n",
            "https://udaanupdates.com/2021/06/24/mysterious-thing-seen-in-gujarat-with-twinkling-lights-video-goes-viral/\n",
            "https://khabarbharattak.com/raveena-tandon-was-burning-in-fever-and-was-suffering-the-painful-pain-of-periods-yet-this-big-work-had-to-be-done-unwillingly/\n",
            "https://www.facebook.com/pushpendrakuldelhi001/videos/789884955129173/\n",
            "https://khabarbharattak.com/whatsapp-will-not-be-able-to-run-in-these-smartphones-from-november-1-see-the-list-do-you-have-a-mobile/\n",
            "https://eknumbernews.com/earning/nitil-bhardwaj-quit-job-and-started-pearl-farm-and-earn-in-lakhs/\n",
            "https://sachkhabar.co.in/now-mahima-choudhary-opened-bollywoods-pole/\n",
            "https://sachkhabar.co.in/big-disclosure-of-parambir-singh-in-court-a-blow-to-uddhav-government/\n",
            "https://khabarbharattak.com/this-was-a-big-condition-regarding-akshays-marriage-which-shilpa-had-refused/\n",
            "https://www.facebook.com/pushpendrakuldelhi001/videos/286758732916931/\n",
            "https://khabarbharattak.com/dubai-to-host-miss-universe-uae-2021-first-time-in-history-winner-will-participate-in-miss-universe/\n",
            "https://khabarbharattak.com/supreme-court-kapil-sibal/\n"
          ]
        }
      ],
      "source": [
        "# top N links\n",
        "N=100 # choose any number for N\n",
        "\n",
        "URL_list = csv_data ['expandedLinks.original'].dropna().value_counts() [:N].index.tolist()\n",
        "\n",
        "import numpy as np\n",
        "for i in range (np.size(URL_list)):\n",
        "  print (URL_list[i]) "
      ]
    },
    {
      "cell_type": "markdown",
      "metadata": {
        "id": "pkKKH6i2fYud"
      },
      "source": [
        "## Use the response from requests.get to validate the website URLs"
      ]
    },
    {
      "cell_type": "markdown",
      "source": [
        "Let's now define a simple function to call the response of get requests"
      ],
      "metadata": {
        "id": "eWNQpFCgiamb"
      }
    },
    {
      "cell_type": "code",
      "execution_count": 17,
      "metadata": {
        "id": "NAARoke55-Nu"
      },
      "outputs": [],
      "source": [
        "def link_validator (URL):\n",
        "  response = requests.get(str(URL))\n",
        "  if response.status_code == 200:\n",
        "    print(URL, '---> VALID')\n",
        "  else:\n",
        "    print(URL, '---> INVALID') \n",
        "  return"
      ]
    },
    {
      "cell_type": "markdown",
      "source": [
        "Let's try the function on a few example links (manually) and see whether it works or not!"
      ],
      "metadata": {
        "id": "78qjX5ZCmVco"
      }
    },
    {
      "cell_type": "code",
      "source": [
        "link_validator (\"https://www.facebook.com/hanumansinghsirana/videos/1951535514949751/\")\n",
        "link_validator (\"https://khabarbharattak.com/rohingya-go-back-to-myanmar/\")\n",
        "link_validator (\"https://sachkhabar.co.in/modi-governments-big-blow-to-zakir-naik/\")"
      ],
      "metadata": {
        "colab": {
          "base_uri": "https://localhost:8080/"
        },
        "id": "OGEKf8Eeluyb",
        "outputId": "c463cc93-2156-40f5-a953-9343d421b265"
      },
      "execution_count": 25,
      "outputs": [
        {
          "output_type": "stream",
          "name": "stdout",
          "text": [
            "https://www.facebook.com/hanumansinghsirana/videos/1951535514949751/ ---> VALID\n",
            "https://khabarbharattak.com/rohingya-go-back-to-myanmar/ ---> INVALID\n",
            "https://sachkhabar.co.in/modi-governments-big-blow-to-zakir-naik/ ---> INVALID\n"
          ]
        }
      ]
    },
    {
      "cell_type": "markdown",
      "source": [
        "Let's modify the above *simple* get request function to bypass the connection errors"
      ],
      "metadata": {
        "id": "7TjQd-tbpRxf"
      }
    },
    {
      "cell_type": "code",
      "source": [
        "def url_exists_stream(URL: str):\n",
        "    try:\n",
        "        with requests.get(URL, stream=True) as response:\n",
        "            try:\n",
        "                response.raise_for_status()\n",
        "                print (URL, '---> VALID')\n",
        "                return True\n",
        "            except requests.exceptions.HTTPError:\n",
        "                print (URL, '---> INVALID')\n",
        "                return False\n",
        "    except requests.exceptions.ConnectionError:\n",
        "        print (URL, '---> INVALID')\n",
        "        return False"
      ],
      "metadata": {
        "id": "skt5A79doiYx"
      },
      "execution_count": 35,
      "outputs": []
    },
    {
      "cell_type": "markdown",
      "source": [
        "Let's now apply the modified function on top 100 shared links we have scrapped from CrowdTangle"
      ],
      "metadata": {
        "id": "evd5jFrYmzan"
      }
    },
    {
      "cell_type": "code",
      "execution_count": 36,
      "metadata": {
        "id": "jvWwSpqKj5LZ",
        "colab": {
          "base_uri": "https://localhost:8080/"
        },
        "outputId": "b72c493d-279f-4426-819b-ac8d71ac99e3"
      },
      "outputs": [
        {
          "output_type": "stream",
          "name": "stdout",
          "text": [
            "https://www.facebook.com/hanumansinghsirana/videos/1951535514949751/ ---> VALID\n",
            "http://www.akhandbharatimes.com/ ---> INVALID\n",
            "https://janganapp.page.link/X42f ---> VALID\n",
            "https://www.facebook.com/pushpendrakuldelhi001/videos/332266691549294/ ---> VALID\n",
            "https://sachkhabar.co.in/now-biden-wants-modis-help-immediately-only-india-can-save-the-world/ ---> INVALID\n",
            "https://www.facebook.com/251541358337843 ---> VALID\n",
            "https://sachkhabar.co.in/modi-governments-big-blow-to-zakir-naik/ ---> INVALID\n",
            "https://www.facebook.com/462116500605383 ---> VALID\n",
            "https://khabarbharattak.com/rohingya-go-back-to-myanmar/ ---> INVALID\n",
            "https://khabarbharattak.com/due-to-this-big-belief-mukesh-ambani-got-200-years-old-olive-trees-for-his-house-know-why/ ---> VALID\n",
            "https://khabarbharattak.com/these-bollywood-stars-whose-marriage-was-broken-in-a-few-years-some-for-9-months-and-some-for-2-years-see-the-full-list/ ---> VALID\n",
            "https://khabarbharattak.com/karan-johar-asked-kajol-what-would-you-do-if-your-daughter-ran-away-with-shahrukh-khans-son-kajol-gave-this-funny-answer/ ---> VALID\n",
            "https://appearnews.com/ambesy/ ---> INVALID\n",
            "https://khabarbharattak.com/bobby-deols-son-gives-tough-competition-to-shahrukh-khans-son-aryan-khan-in-terms-of-smartness-see-photos/ ---> VALID\n",
            "http://www.bhagwaswayamsevaksangh.org/ ---> VALID\n",
            "https://appearnews.com/social-media-bride-video/ ---> INVALID\n",
            "https://khabarbharattak.com/5-jokes-in-hindi/ ---> VALID\n",
            "https://khabarbharattak.com/rss-gave-command-of-ram-temple-to-bhaiyyaji-joshi/ ---> INVALID\n",
            "https://appearnews.com/interview-question-1/ ---> INVALID\n",
            "https://khabarbharattak.com/149-year-olds-darbar-move-tradition-ended-in-jammu-and-kashmir-due-to-pm-modi-and-amit-shah/ ---> INVALID\n",
            "https://appearnews.com/7-jokes/ ---> INVALID\n",
            "https://khabarbharattak.com/will-rohit-sardana-be-honored-with-the-padma-shri-award/ ---> VALID\n",
            "https://appearnews.com/10-question-interview/ ---> INVALID\n",
            "https://khabarbharattak.com/ians-c-voter-survey/ ---> INVALID\n",
            "https://khabarbharattak.com/is-the-entire-pakistan-border-being-sealed-with-israel-technology-laser-at-a-cost-of-rs-76-thousand-crore/ ---> INVALID\n",
            "https://khabarbharattak.com/times-now-initial-opinion-poll-on-upcoming-up-elections/ ---> VALID\n",
            "https://khabarbharattak.com/hot-and-romantic-pictures-of-taarak-mehtas-bhide-masters-daughter-sonu-in-black-bra-became-increasingly-viral-on-social-media/ ---> VALID\n",
            "https://twitter.com/Updesh_143?s=09 ---> VALID\n",
            "https://khabarbharattak.com/sapna-choudharys-sons-name-is-porus/ ---> VALID\n",
            "https://www.facebook.com/pushpendrakuldelhi001/videos/230106268824593/ ---> VALID\n",
            "https://khabarbharattak.com/swara-bhaskar-was-opposing-caa-and-nrc-hence-removed-from-the-brand/ ---> INVALID\n",
            "https://www.facebook.com/prakharshri78/videos/212570273284867/ ---> VALID\n",
            "https://www.facebook.com/pushpendrakuldelhi001/videos/785586485362779/ ---> VALID\n",
            "https://khabarbharattak.com/know-how-govinda-became-superstar-sadhvi-mother-became-muslim-after-birth-father-had-refused-to-adopt/ ---> VALID\n",
            "https://sachkhabar.co.in/ravish-kumar-vinod-dua-patel-par-sikayat-derz/ ---> INVALID\n",
            "https://www.facebook.com/Pushpendrarss/videos/298905088575270/ ---> VALID\n",
            "https://khabarbharattak.com/diwan-of-ajmer-sharif-dargah-praises-pm-modi/ ---> INVALID\n",
            "https://www.facebook.com/pushpendrakuldelhi001/videos/1050655858771279/ ---> VALID\n",
            "https://www.facebook.com/pushpendrakuldelhi001/videos/2875021289448001/ ---> VALID\n",
            "https://www.facebook.com/pushpendrakuldelhi001/videos/121072063259183/ ---> VALID\n",
            "https://www.facebook.com/hrashtrashakti/videos/743586506576360/ ---> VALID\n",
            "https://khabarbharattak.com/mamata-banerjee-made-only-minorities-sub-inspector-in-bengal/ ---> INVALID\n",
            "https://khabarbharattak.com/ram-mandir-janmabhumi-sanjay-singh-priyanka-gandhi/ ---> INVALID\n",
            "https://khabarbharattak.com/4-women-from-kerala-will-not-be-allowed-to-come-to-india-know-what-is-the-matter/ ---> INVALID\n",
            "https://khabarbharattak.com/kripashankar-singh-joins-bjp/ ---> INVALID\n",
            "https://udaanupdates.com/2021/06/30/duplicate-dayaben-of-taarak-mehta-ka-ooltah-chashmah-created-a-ruckus-jethalal-was-also-called-a-cheat/ ---> INVALID\n",
            "https://www.facebook.com/PushpendraKulshresthaDelhi/videos/266282337948942/ ---> VALID\n",
            "https://www.facebook.com/DOpolitics.in/videos/4437493519691663/ ---> VALID\n",
            "https://khabarbharattak.com/cm-yogi-to-arnab-goswami-said-i-am-not-a-traditional-politician-politics-is-not-everything/ ---> INVALID\n",
            "https://youtu.be/Ed_chF4kz_4 ---> VALID\n",
            "https://www.facebook.com/PushpendraKulshresthaDelhi/videos/437904210851380/ ---> VALID\n",
            "https://khabarbharattak.com/it-is-not-badrinath-it-is-badruddin-shah-video-viral/ ---> INVALID\n",
            "https://appearnews.com/sameer-wankhede-gets-big-relief-from-bombay-high-court-know-what/ ---> INVALID\n",
            "https://appearnews.com/interview-question-which-vegetable-is-this-inside-which-is-hidden-one-language-one-district-and-one-country/ ---> INVALID\n",
            "https://appearnews.com/army-chopper-crashes-in-tamilnadu-than-social-media-reaction/ ---> INVALID\n",
            "https://sachkhabar.co.in/sighu-border-kisan/ ---> INVALID\n",
            "https://sachkhabar.co.in/aryan-friend-was-making-revelations-outside-the-jail/ ---> INVALID\n",
            "https://khabarbharattak.com/10-year-old-palestinian-girl-video-goes-viral/ ---> INVALID\n",
            "https://sachkhabar.co.in/bhagyashree-cried-for-hours-before-doing-a-scene-with-salan-khan/ ---> INVALID\n",
            "https://www.crowdkash.com/campaign/1075/support-family-of-rinku-sharma ---> VALID\n",
            "https://sachkhabar.co.in/yogi-government-has-given-3-indications-what-is-telling-that-after-kashi-ayodhya-is-preparing-for-mathura/ ---> INVALID\n",
            "https://khabarbharattak.com/pakistan-media-pm-narendra-modi-beard-astrologer/ ---> INVALID\n",
            "https://www.facebook.com/pushpendrakuldelhi001/videos/421998275709744/ ---> VALID\n",
            "https://appearnews.com/news-12/ ---> INVALID\n",
            "https://khabarbharattak.com/haryana-cm-held-high-level-meeting/ ---> VALID\n",
            "https://www.facebook.com/pushpendrakuldelhi001/videos/320168522444135/ ---> VALID\n",
            "https://sachkhabar.co.in/for-the-first-time-this-has-happened-when-both-bjp-and-congress-have-become-one-on-any-issue/ ---> INVALID\n",
            "https://khabarbharattak.com/twitter-separated-jammu-and-kashmir-from-india-rubika-liaquat-replied/ ---> INVALID\n",
            "https://udaanupdates.com/2021/06/27/michael-jackson-dancing-moves/ ---> INVALID\n",
            "https://udaanupdates.com/2021/06/28/watch-nita-ambanis-230-crore-private-jet-is-no-less-than-a-palace/ ---> INVALID\n",
            "https://udaanupdates.com/2021/06/26/raj-thackeray-and-sonali-bendre-affair/ ---> INVALID\n",
            "https://udaanupdates.com/2021/06/30/such-a-tree-on-which-121-species-of-mangoes-know-the-names-of-the-species/ ---> INVALID\n",
            "https://udaanupdates.com/2021/06/29/whoever-did-this-secret-remedy-on-tuesday-changed-his-life/ ---> INVALID\n",
            "https://sachkhabar.co.in/all-the-three-agricultural-laws-are-not-ending-only-their-form-is-changing/ ---> INVALID\n",
            "https://udaanupdates.com/2021/06/24/seeing-the-new-photo-of-smriti-irani-the-fans-went-crazy-and-said-tulsi-has-returned/ ---> INVALID\n",
            "https://khabarbharattak.com/amit-shahs-big-decision-regarding-sameer-wankhede-amit-shah-is-being-praised-everywhere/ ---> VALID\n",
            "https://sachkhabar.co.in/amit-shah-is-in-active-mode-regarding-jammu-and-kashmir/ ---> INVALID\n",
            "https://www.facebook.com/pushpendrakuldelhi001/videos/163431302248852/ ---> VALID\n",
            "https://khabarbharattak.com/ramayana-nishad-raj-passes-away/ ---> VALID\n",
            "https://sachkhabar.co.in/delhi-low-floor-bus-purchase-news/ ---> INVALID\n",
            "https://khabarbharattak.com/know-why-a-monk-kissed-shilpa-shetty/ ---> VALID\n",
            "https://khabarbharattak.com/this-was-the-big-reason-revealed-due-to-which-karishma-and-kareena-were-not-seen-together-in-any-film/ ---> VALID\n",
            "https://khabarbharattak.com/muslim-nikah-is-an-agreement-and-it-is-not-a-sacrament-like-hindu-marriage-karnataka-high-court/ ---> VALID\n",
            "https://khabarbharattak.com/watch-video-how-people-steal-your-amazon-delivery-the-video-is-going-viral-on-the-internet/ ---> VALID\n",
            "https://khabarbharattak.com/failed-bharat-bandh/ ---> VALID\n",
            "https://sachkhabar.co.in/a-decision-of-modi-government-is-going-to-give-breath-to-the-opponents-of-india/ ---> INVALID\n",
            "https://khabarbharattak.com/babita-ji-and-varun-dhawan-were-seen-in-each-others-arms-romantic-picture-of-both-leaked-created-a-ruckus/ ---> VALID\n",
            "https://www.facebook.com/pushpendrakuldelhi001/videos/373444140494423/ ---> VALID\n",
            "https://sachkhabar.co.in/russia-india-or-ocus-alliance/ ---> INVALID\n",
            "https://udaanupdates.com/2021/06/24/mysterious-thing-seen-in-gujarat-with-twinkling-lights-video-goes-viral/ ---> INVALID\n",
            "https://khabarbharattak.com/raveena-tandon-was-burning-in-fever-and-was-suffering-the-painful-pain-of-periods-yet-this-big-work-had-to-be-done-unwillingly/ ---> VALID\n",
            "https://www.facebook.com/pushpendrakuldelhi001/videos/789884955129173/ ---> VALID\n",
            "https://khabarbharattak.com/whatsapp-will-not-be-able-to-run-in-these-smartphones-from-november-1-see-the-list-do-you-have-a-mobile/ ---> VALID\n",
            "https://eknumbernews.com/earning/nitil-bhardwaj-quit-job-and-started-pearl-farm-and-earn-in-lakhs/ ---> VALID\n",
            "https://sachkhabar.co.in/now-mahima-choudhary-opened-bollywoods-pole/ ---> INVALID\n",
            "https://sachkhabar.co.in/big-disclosure-of-parambir-singh-in-court-a-blow-to-uddhav-government/ ---> INVALID\n",
            "https://khabarbharattak.com/this-was-a-big-condition-regarding-akshays-marriage-which-shilpa-had-refused/ ---> VALID\n",
            "https://www.facebook.com/pushpendrakuldelhi001/videos/286758732916931/ ---> VALID\n",
            "https://khabarbharattak.com/dubai-to-host-miss-universe-uae-2021-first-time-in-history-winner-will-participate-in-miss-universe/ ---> VALID\n",
            "https://khabarbharattak.com/supreme-court-kapil-sibal/ ---> VALID\n"
          ]
        }
      ],
      "source": [
        "for i in range (np.size(URL_list)):\n",
        "  url_exists_stream (URL_list[i])"
      ]
    }
  ],
  "metadata": {
    "colab": {
      "collapsed_sections": [],
      "name": "Automated URL validator.ipynb",
      "provenance": []
    },
    "kernelspec": {
      "display_name": "Python 3",
      "name": "python3"
    }
  },
  "nbformat": 4,
  "nbformat_minor": 0
}