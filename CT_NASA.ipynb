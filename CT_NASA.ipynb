{
  "cells": [
    {
      "cell_type": "markdown",
      "metadata": {
        "id": "EjXsp9nK7MtA"
      },
      "source": [
        "# **CT-NASA** (**C**rowd**T**angle-**N**ew **A**ctor **S**earching **A**lgorithm)"
      ]
    },
    {
      "cell_type": "markdown",
      "metadata": {
        "id": "aEZvWaoKc_Sd"
      },
      "source": [
        "\n",
        "**Pypi:** https://pypi.org/project/PyCrowdTangle/\n",
        "\n",
        "**Github:** https://github.com/UPB-SS1/PyCrowdTangle"
      ]
    },
    {
      "cell_type": "markdown",
      "metadata": {
        "id": "LIIErpPSdq98"
      },
      "source": [
        "## Install PyCrowdTangle and import libraries"
      ]
    },
    {
      "cell_type": "code",
      "execution_count": null,
      "metadata": {
        "id": "ShWpcUEJ13U1"
      },
      "outputs": [],
      "source": [
        "!pip install PyCrowdTangle -q"
      ]
    },
    {
      "cell_type": "markdown",
      "metadata": {
        "id": "9pH2_aOzdzGc"
      },
      "source": [
        "Import Libraries"
      ]
    },
    {
      "cell_type": "code",
      "execution_count": null,
      "metadata": {
        "id": "s9MCEOeG2DK4"
      },
      "outputs": [],
      "source": [
        "import PyCrowdTangle as pct\n",
        "import pandas as pd"
      ]
    },
    {
      "cell_type": "code",
      "execution_count": null,
      "metadata": {
        "colab": {
          "base_uri": "https://localhost:8080/"
        },
        "id": "RfGgwkMLaAg8",
        "outputId": "7b57e90f-4e0a-4da2-cff9-e7d6b87eb4e9"
      },
      "outputs": [
        {
          "output_type": "execute_result",
          "data": {
            "text/plain": [
              "['PyCrowdTangle',\n",
              " '__author__',\n",
              " '__builtins__',\n",
              " '__cached__',\n",
              " '__doc__',\n",
              " '__file__',\n",
              " '__loader__',\n",
              " '__name__',\n",
              " '__package__',\n",
              " '__path__',\n",
              " '__spec__',\n",
              " '__version__',\n",
              " 'ct_get_links',\n",
              " 'ct_get_lists',\n",
              " 'ct_get_posts']"
            ]
          },
          "metadata": {},
          "execution_count": 3
        }
      ],
      "source": [
        "dir(pct)"
      ]
    },
    {
      "cell_type": "code",
      "execution_count": null,
      "metadata": {
        "colab": {
          "base_uri": "https://localhost:8080/",
          "height": 176
        },
        "id": "RYJSkFY6a2J8",
        "outputId": "90d50e05-7b1b-4194-9628-44f9030aa526"
      },
      "outputs": [
        {
          "output_type": "execute_result",
          "data": {
            "text/plain": [
              "'0.5.0'"
            ],
            "application/vnd.google.colaboratory.intrinsic+json": {
              "type": "string"
            }
          },
          "metadata": {},
          "execution_count": 4
        }
      ],
      "source": [
        "# get version\n",
        "pct.__version__"
      ]
    },
    {
      "cell_type": "code",
      "execution_count": null,
      "metadata": {
        "id": "k0o8rSlKaP-W"
      },
      "outputs": [],
      "source": [
        "# get the api_token from https://apps.crowdtangle.com/\n",
        "# you can locate your API token via your crowdtangle dashboard\n",
        "# under Settings > API Access.\n",
        "token=\"XYZZZZZZYYYYYYXXXXXXUUUUUWWWWW\" #put your token here"
      ]
    },
    {
      "cell_type": "markdown",
      "metadata": {
        "id": "H3fcMM38hh25"
      },
      "source": [
        "## Load CrowdTangle dataset "
      ]
    },
    {
      "cell_type": "code",
      "execution_count": null,
      "metadata": {
        "colab": {
          "base_uri": "https://localhost:8080/"
        },
        "id": "gouoLzz9hrij",
        "outputId": "c955a907-729b-43a9-b560-dbf1d3840ce6"
      },
      "outputs": [
        {
          "output_type": "stream",
          "name": "stdout",
          "text": [
            "Mounted at /content/drive\n"
          ]
        }
      ],
      "source": [
        "from google.colab import drive\n",
        "drive.mount('/content/drive')"
      ]
    },
    {
      "cell_type": "code",
      "execution_count": null,
      "metadata": {
        "id": "eiaHs_EIjfyp"
      },
      "outputs": [],
      "source": [
        "import os\n",
        "os.chdir(\"/content/drive/MyDrive/YOUR_DIRECTORY_PATH\")"
      ]
    },
    {
      "cell_type": "code",
      "execution_count": null,
      "metadata": {
        "id": "ti5Z1NHqjPH9"
      },
      "outputs": [],
      "source": [
        "import pandas as pd\n",
        "import time"
      ]
    },
    {
      "cell_type": "code",
      "execution_count": null,
      "metadata": {
        "id": "6vzoPX64h6sw"
      },
      "outputs": [],
      "source": [
        "# put the data file name below\n",
        "csv_data = pd.read_csv(\"data_file.csv\", low_memory=False,  lineterminator='\\n', sep=';', error_bad_lines=False)"
      ]
    },
    {
      "cell_type": "code",
      "execution_count": null,
      "metadata": {
        "id": "8Yv5XBIOkxy4"
      },
      "outputs": [],
      "source": [
        "csv_data.shape"
      ]
    },
    {
      "cell_type": "code",
      "execution_count": null,
      "metadata": {
        "colab": {
          "base_uri": "https://localhost:8080/"
        },
        "id": "uHNiF9fGk_H4",
        "outputId": "c511a1de-f4a7-4a22-93d8-64d377a3e057"
      },
      "outputs": [
        {
          "output_type": "execute_result",
          "data": {
            "text/plain": [
              "Index(['account.name', 'account.handle', 'platformId', 'Page Category',\n",
              "       'Page Admin Top Country', 'Page Description', 'Page Created',\n",
              "       'subscriberCount', 'Followers at Posting', 'date', 'Post Created Date',\n",
              "       'Post Created Time', 'type', 'totalInteraction',\n",
              "       'statistics.actual.likeCount', 'statistics.actual.commentCount',\n",
              "       'statistics.actual.shareCount', 'statistics.actual.loveCount',\n",
              "       'statistics.actual.wowCount', 'statistics.actual.hahaCount',\n",
              "       'statistics.actual.sadCount', 'statistics.actual.angryCount',\n",
              "       'statistics.actual.careCount', 'Video Share Status', 'Is Video Owner?',\n",
              "       'statistics.actual.videoPostViewCount',\n",
              "       'statistics.actual.videoTotalViewCount',\n",
              "       'statistics.actual.videoAllCrosspostsViewCount', 'Video Length',\n",
              "       'postUrl', 'message', 'expandedLinks.original',\n",
              "       'expandedLinks.expanded', 'imageText', 'title', 'description',\n",
              "       'brandedContentSponsor.platformId', 'brandedContentSponsor.name',\n",
              "       'brandedContentSponsor.category', 'score'],\n",
              "      dtype='object')"
            ]
          },
          "metadata": {},
          "execution_count": 11
        }
      ],
      "source": [
        "csv_data.columns"
      ]
    },
    {
      "cell_type": "markdown",
      "metadata": {
        "id": "vYbZNXCmlSqQ"
      },
      "source": [
        "## Statistics of the dataset"
      ]
    },
    {
      "cell_type": "code",
      "execution_count": null,
      "metadata": {
        "id": "TgFgpkeJqbU4"
      },
      "outputs": [],
      "source": [
        "# identify unique actors and print the list\n",
        "actors_list = csv_data['account.name'].dropna().unique()\n",
        "print (\"Total number of unique actors within the dataset:\", actors_list.size)\n",
        "\n",
        "for i in range (actors_list.size):\n",
        "  print (actors_list [i]) "
      ]
    },
    {
      "cell_type": "code",
      "execution_count": null,
      "metadata": {
        "colab": {
          "base_uri": "https://localhost:8080/"
        },
        "id": "UlSo8p8flWcM",
        "outputId": "7cfb25e1-a720-4d57-c8cf-babb49a9dcfe"
      },
      "outputs": [
        {
          "output_type": "execute_result",
          "data": {
            "text/plain": [
              "http://www.akhandbharatimes.com/                                                                   30\n",
              "https://www.facebook.com/hanumansinghsirana/videos/1951535514949751/                               28\n",
              "https://www.facebook.com/pushpendrakuldelhi001/videos/332266691549294/                             15\n",
              "https://sachkhabar.co.in/now-biden-wants-modis-help-immediately-only-india-can-save-the-world/     15\n",
              "https://sachkhabar.co.in/modi-governments-big-blow-to-zakir-naik/                                  15\n",
              "                                                                                                   ..\n",
              "https://www.facebook.com/KapilMishraFans/photos/a.184870732871889/477180080307618/?type=3           1\n",
              "https://www.facebook.com/unitehindumovement/photos/a.115062400186484/278440053848717/?type=3        1\n",
              "https://www.facebook.com/hindurastrabharat1010/photos/a.103210884669597/261357038854980/?type=3     1\n",
              "https://www.facebook.com/photo.php?fbid=1169882913483961&set=p.1169882913483961&type=3              1\n",
              "https://www.facebook.com/ProudToBeHindu.org/photos/a.425595337513853/1449030361837007/?type=3       1\n",
              "Name: expandedLinks.original, Length: 238450, dtype: int64"
            ]
          },
          "metadata": {},
          "execution_count": 13
        }
      ],
      "source": [
        "# top links \n",
        "\n",
        "csv_data ['expandedLinks.original'].value_counts()"
      ]
    },
    {
      "cell_type": "code",
      "execution_count": null,
      "metadata": {
        "colab": {
          "base_uri": "https://localhost:8080/"
        },
        "id": "ZTzZgXhSvGKT",
        "outputId": "ec72f162-8170-440d-bbd3-e7df7092edfb"
      },
      "outputs": [
        {
          "output_type": "stream",
          "name": "stdout",
          "text": [
            "http://www.akhandbharatimes.com/\n",
            "https://www.facebook.com/hanumansinghsirana/videos/1951535514949751/\n",
            "https://www.facebook.com/pushpendrakuldelhi001/videos/332266691549294/\n",
            "https://sachkhabar.co.in/now-biden-wants-modis-help-immediately-only-india-can-save-the-world/\n",
            "https://sachkhabar.co.in/modi-governments-big-blow-to-zakir-naik/\n",
            "https://appearnews.com/ambesy/\n",
            "https://khabarbharattak.com/due-to-this-big-belief-mukesh-ambani-got-200-years-old-olive-trees-for-his-house-know-why/\n",
            "https://khabarbharattak.com/rohingya-go-back-to-myanmar/\n"
          ]
        }
      ],
      "source": [
        "# top N links\n",
        "N=8\n",
        "\n",
        "URL_list = csv_data ['expandedLinks.original'].dropna().value_counts() [:N].index.tolist()\n",
        "\n",
        "import numpy as np\n",
        "for i in range (np.size(URL_list)):\n",
        "  print (URL_list[i]) "
      ]
    },
    {
      "cell_type": "markdown",
      "metadata": {
        "id": "pkKKH6i2fYud"
      },
      "source": [
        "##Use *ct_get_links* function to retrieve a set of posts matching a certain link"
      ]
    },
    {
      "cell_type": "code",
      "execution_count": null,
      "metadata": {
        "colab": {
          "base_uri": "https://localhost:8080/"
        },
        "id": "bGh4Gt5mh0z-",
        "outputId": "9181a8ea-2dc3-4bf6-d04c-8d00fbc8959d"
      },
      "outputs": [
        {
          "output_type": "stream",
          "name": "stdout",
          "text": [
            " Retrieve a set of posts matching a certain link.\n",
            "\n",
            "    Args:\n",
            "        link (str): The link to query by. Required.\n",
            "        platforms (str, optional): The platforms from which to retrieve links. This value can be comma-separated.\n",
            "                                   options: facebook, instagram, reddit. Defaults to 'facebook'.\n",
            "        count (int, optional): The number of posts to return. Defaults to 100. options [1-100]\n",
            "        start_date (str, optional): The earliest date at which a post could be posted. Time zone is UTC. \n",
            "                                    Format is “yyyy-mm-ddThh:mm:ss” or “yyyy-mm-dd” \n",
            "                                    (defaults to time 00:00:00).\n",
            "        end_date (str, optional):  The latest date at which a post could be posted.\n",
            "                                  Time zone is UTC. Format is “yyyy-mm-ddThh:mm:ss”\n",
            "                                  or “yyyy-mm-dd” (defaults to time 00:00:00).\n",
            "                                  Defaults to \"now\".\n",
            "        include_history (str, optional): Includes timestep data for growth of each post returned.\n",
            "                                         Defaults to null (not included). options: 'true'\n",
            "        include_summary (str, optional): Adds a \"summary\" section with AccountStatistics for \n",
            "                                         each platform that has posted this link. It will look beyond \n",
            "                                         the count requested to summarize across the time searched. \n",
            "                                         Requires a value for startDate.\n",
            "                                         Defaults to false. options: 'true' , 'false'\n",
            "\n",
            "        offset (int, optional):   The number of posts to offset (generally used for pagination). \n",
            "                                  Pagination links will also be provided in the response.\n",
            "                                  Defaults to 0. options >= 0\n",
            "\n",
            "        sortBy (str, optional):   The method by which to order posts (defaults to the most recent).\n",
            "                                  If subscriber_count, a startDate is required.\n",
            "                                  Defaults to 'date'. options: 'subscriber_count' , 'total_interactions'\n",
            "\n",
            "        api_token (str, optional): you can locate your API token via your crowdtangle dashboard\n",
            "                                   under Settings > API Access.\n",
            "\n",
            "    Raises:\n",
            "        ValueError: \"link was empty\"\n",
            "        ValueError: \"api_token variable is empty\"\n",
            "\n",
            "    Returns:\n",
            "        [dict]: The Response contains both a status code and a result. The status will always\n",
            "                be 200 if there is no error. The result contains an array of post objects and\n",
            "                a pagination object with URLs for both the next and previous page, if they exist\n",
            "    \n",
            "    Example:\n",
            "        ct_get_links(link= 'http://www.queenonline.com/', platforms='facebook',\n",
            "                     start_date='2019-01-01', include_history = 'true',\n",
            "                     sortBy = 'date', api_token=\"AKJHXDFYTGEBKRJ6535\")\n",
            "    \n"
          ]
        }
      ],
      "source": [
        "print(pct.ct_get_links.__doc__)"
      ]
    },
    {
      "cell_type": "code",
      "execution_count": null,
      "metadata": {
        "id": "NAARoke55-Nu"
      },
      "outputs": [],
      "source": [
        "# function to get all accounts who are associated with a link\n",
        "\n",
        "def get_all_posts (URL, start_date, api_token):\n",
        "  data = pct.ct_get_links(link=URL, include_history = 'true', platforms= ('facebook'), start_date=start_date,api_token=api_token)\n",
        "  df = pd.DataFrame(data['result']['posts'])\n",
        "  return df"
      ]
    },
    {
      "cell_type": "code",
      "execution_count": null,
      "metadata": {
        "id": "YFU6jNT3g4-O"
      },
      "outputs": [],
      "source": [
        "# function to extract particular account details from the dictionary\n",
        "\n",
        "def get_dict (df, output_df):\n",
        "  for i in range (len(df)):\n",
        "    date_dict = {'date' : df['date'][i]}\n",
        "    updated_dict = {'updated' : df['updated'][i]}\n",
        "    account_dict = df['account'][i]\n",
        "    message_dict = {'message' : df['message'][i]}\n",
        "    link_dict = {'link' : df['link'][i]}\n",
        "    postUrl_dict = {'postUrl' : df['postUrl'][i]}\n",
        "\n",
        "    extracted_dict = {**date_dict, **updated_dict, **message_dict, **link_dict, **postUrl_dict, **account_dict}\n",
        "    \n",
        "    extracted_dict_df = pd.DataFrame([extracted_dict])\n",
        "    output_df = pd.concat ([output_df, extracted_dict_df], ignore_index=True)\n",
        "  return output_df"
      ]
    },
    {
      "cell_type": "code",
      "execution_count": null,
      "metadata": {
        "id": "jvWwSpqKj5LZ",
        "colab": {
          "base_uri": "https://localhost:8080/"
        },
        "outputId": "203dc757-ee12-45ae-8f45-b597924987c4"
      },
      "outputs": [
        {
          "output_type": "stream",
          "name": "stdout",
          "text": [
            "                    date              updated  \\\n",
            "0    2019-01-16 10:59:44  2021-11-22 09:50:21   \n",
            "1    2019-01-16 10:45:19  2021-11-22 09:50:21   \n",
            "2    2019-01-16 10:44:28  2021-11-22 09:50:21   \n",
            "3    2022-03-13 11:24:58  2022-03-20 19:03:11   \n",
            "4    2022-03-10 09:32:46  2022-04-02 11:09:46   \n",
            "..                   ...                  ...   \n",
            "495  2021-06-30 07:52:44  2021-09-23 16:58:13   \n",
            "496  2021-06-30 07:52:37  2021-12-05 02:17:31   \n",
            "497  2021-06-30 07:52:30  2021-12-03 11:42:29   \n",
            "498  2021-06-30 07:52:20  2022-03-01 12:43:14   \n",
            "499  2021-06-30 07:43:15  2021-09-20 09:54:13   \n",
            "\n",
            "                                               message  \\\n",
            "0    आलोक वर्मा पर NSA अजीत डोभाल का फोन टेप करवाने...   \n",
            "1    गिनती के लिए कर्नाटक कांग्रेस ने बुलाई बैठक , ...   \n",
            "2    शीला दीक्षित की ताजपोशी में पहुंचे सिख दंगों क...   \n",
            "3                                                  NaN   \n",
            "4                                                  NaN   \n",
            "..                                                 ...   \n",
            "495  योगी का जलवा कायम रोहिंग्याओ ने CM योगी से लगा...   \n",
            "496  योगी का जलवा कायम रोहिंग्याओ ने CM योगी से लगा...   \n",
            "497  योगी का जलवा कायम रोहिंग्याओ ने CM योगी से लगा...   \n",
            "498  योगी का जलवा कायम रोहिंग्याओ ने CM योगी से लगा...   \n",
            "499  योगी का जलवा कायम रोहिंग्याओ ने CM योगी से लगा...   \n",
            "\n",
            "                                                  link  \\\n",
            "0    http://www.akhandbharatimes.com/2019/01/nsa-hc...   \n",
            "1    http://www.akhandbharatimes.com/2019/01/blog-p...   \n",
            "2    http://www.akhandbharatimes.com/2019/01/jagdis...   \n",
            "3    https://www.facebook.com/hanumansinghsirana/vi...   \n",
            "4    https://www.facebook.com/hanumansinghsirana/vi...   \n",
            "..                                                 ...   \n",
            "495  https://khabarbharattak.com/rohingya-go-back-t...   \n",
            "496  https://khabarbharattak.com/rohingya-go-back-t...   \n",
            "497  https://khabarbharattak.com/rohingya-go-back-t...   \n",
            "498  https://khabarbharattak.com/rohingya-go-back-t...   \n",
            "499  https://khabarbharattak.com/rohingya-go-back-t...   \n",
            "\n",
            "                                               postUrl        id  \\\n",
            "0    https://www.facebook.com/574348515970793/posts...  15796082   \n",
            "1    https://www.facebook.com/574348515970793/posts...  15796082   \n",
            "2    https://www.facebook.com/574348515970793/posts...  15796082   \n",
            "3    https://www.facebook.com/groups/18903401567456...  14557039   \n",
            "4    https://www.facebook.com/groups/79167731427022...  10171991   \n",
            "..                                                 ...       ...   \n",
            "495  https://www.facebook.com/313739616231431/posts...   8558943   \n",
            "496  https://www.facebook.com/2051450165149093/post...  14358564   \n",
            "497  https://www.facebook.com/234540670328769/posts...   2686880   \n",
            "498  https://www.facebook.com/102839014553373/posts...  11637291   \n",
            "499  https://www.facebook.com/637161189807671/posts...   4899067   \n",
            "\n",
            "                                         name  \\\n",
            "0                         Akhand Bharat Times   \n",
            "1                         Akhand Bharat Times   \n",
            "2                         Akhand Bharat Times   \n",
            "3       I Support Major General G.D. Bakshi💪💪   \n",
            "4                               BJP HYDERABAD   \n",
            "..                                        ...   \n",
            "495          Pushpendra Kulshrestha Fans Club   \n",
            "496                   Tejasvi Surya Fans Club   \n",
            "497                               IndiaVirals   \n",
            "498  शाह है तो संभव है, मोदी है तो मुमकिन हैं   \n",
            "499                  Dr. Sambit Patra FanClub   \n",
            "\n",
            "                                    handle  \\\n",
            "0                      akhand.bharat.times   \n",
            "1                      akhand.bharat.times   \n",
            "2                      akhand.bharat.times   \n",
            "3                                      NaN   \n",
            "4                                      NaN   \n",
            "..                                     ...   \n",
            "495                          Pushpendrarss   \n",
            "496                   TejasviSuryaFansClub   \n",
            "497                           udaanupdates   \n",
            "498  ShahHaiToSambhavHaiModiHaiToMumkinHai   \n",
            "499                     SambitPatraFanClub   \n",
            "\n",
            "                                          profileImage  subscriberCount  \\\n",
            "0    https://scontent-sea1-1.xx.fbcdn.net/v/t1.1816...            19311   \n",
            "1    https://scontent-sea1-1.xx.fbcdn.net/v/t1.1816...            19311   \n",
            "2    https://scontent-sea1-1.xx.fbcdn.net/v/t1.1816...            19311   \n",
            "3    https://scontent-sea1-1.xx.fbcdn.net/v/t1.6435...            79903   \n",
            "4    https://scontent-sea1-1.xx.fbcdn.net/v/t1.6435...             4721   \n",
            "..                                                 ...              ...   \n",
            "495  https://scontent-sea1-1.xx.fbcdn.net/v/t1.6435...           853999   \n",
            "496  https://scontent-sea1-1.xx.fbcdn.net/v/t1.6435...            87753   \n",
            "497  https://scontent-sea1-1.xx.fbcdn.net/v/t39.308...           547122   \n",
            "498  https://scontent-sea1-1.xx.fbcdn.net/v/t1.6435...           153898   \n",
            "499  https://scontent-sea1-1.xx.fbcdn.net/v/t1.1816...           505004   \n",
            "\n",
            "                                                 url  platform  \\\n",
            "0           https://www.facebook.com/574348515970793  Facebook   \n",
            "1           https://www.facebook.com/574348515970793  Facebook   \n",
            "2           https://www.facebook.com/574348515970793  Facebook   \n",
            "3    https://www.facebook.com/groups/189034015674567  Facebook   \n",
            "4    https://www.facebook.com/groups/791677314270224  Facebook   \n",
            "..                                               ...       ...   \n",
            "495         https://www.facebook.com/313739616231431  Facebook   \n",
            "496        https://www.facebook.com/2051450165149093  Facebook   \n",
            "497         https://www.facebook.com/234540670328769  Facebook   \n",
            "498         https://www.facebook.com/102839014553373  Facebook   \n",
            "499         https://www.facebook.com/637161189807671  Facebook   \n",
            "\n",
            "           platformId     accountType pageAdminTopCountry  \\\n",
            "0     574348515970793   facebook_page                  IN   \n",
            "1     574348515970793   facebook_page                  IN   \n",
            "2     574348515970793   facebook_page                  IN   \n",
            "3     189034015674567  facebook_group                 NaN   \n",
            "4     791677314270224  facebook_group                 NaN   \n",
            "..                ...             ...                 ...   \n",
            "495   313739616231431   facebook_page                  IN   \n",
            "496  2051450165149093   facebook_page                  IN   \n",
            "497   234540670328769   facebook_page                  IN   \n",
            "498   102839014553373   facebook_page                  IN   \n",
            "499   637161189807671   facebook_page                  IN   \n",
            "\n",
            "                                       pageDescription      pageCreatedDate  \\\n",
            "0    Welcome to The Akhand Bharat Times on Facebook...  2013-12-16 13:30:08   \n",
            "1    Welcome to The Akhand Bharat Times on Facebook...  2013-12-16 13:30:08   \n",
            "2    Welcome to The Akhand Bharat Times on Facebook...  2013-12-16 13:30:08   \n",
            "3                                                  NaN                  NaN   \n",
            "4                                                  NaN                  NaN   \n",
            "..                                                 ...                  ...   \n",
            "495  पेज से जुड़ने के लिए आपका धन्यवाद, आशा करते है ...  2019-06-07 08:59:33   \n",
            "496                                           Interest  2019-04-13 08:19:05   \n",
            "497  A leading media house empowering people by pro...  2017-01-08 06:52:04   \n",
            "498                                           Interest  2019-12-14 14:01:48   \n",
            "499                                         Politician  2017-03-29 00:34:51   \n",
            "\n",
            "         pageCategory  verified  \n",
            "0               MEDIA     False  \n",
            "1               MEDIA     False  \n",
            "2               MEDIA     False  \n",
            "3                none     False  \n",
            "4                none     False  \n",
            "..                ...       ...  \n",
            "495  ACTIVITY_GENERAL     False  \n",
            "496  ACTIVITY_GENERAL     False  \n",
            "497         NEWS_SITE     False  \n",
            "498  ACTIVITY_GENERAL     False  \n",
            "499        POLITICIAN     False  \n",
            "\n",
            "[500 rows x 19 columns]\n"
          ]
        }
      ],
      "source": [
        "start_date = '2019-01-01'\n",
        "\n",
        "output_df = pd.DataFrame()\n",
        "\n",
        "for i in range (np.size(URL_list)):\n",
        "  df = get_all_posts (str(URL_list[i]), start_date, token)\n",
        "  output_df = get_dict (df, output_df)\n",
        "\n",
        "  if i < (np.size(URL_list)-1):\n",
        "    time.sleep (31)\n",
        "\n",
        "print (output_df)"
      ]
    },
    {
      "cell_type": "code",
      "execution_count": null,
      "metadata": {
        "id": "N2FMeXB7-O6T",
        "colab": {
          "base_uri": "https://localhost:8080/"
        },
        "outputId": "ff5512c0-ae3b-451b-ca41-e47ed79ae024"
      },
      "outputs": [
        {
          "output_type": "stream",
          "name": "stdout",
          "text": [
            "                    date              updated  \\\n",
            "3    2022-03-13 11:24:58  2022-03-20 19:03:11   \n",
            "4    2022-03-10 09:32:46  2022-04-02 11:09:46   \n",
            "5    2022-03-10 09:32:45  2022-04-02 11:04:14   \n",
            "6    2022-03-10 09:32:44  2022-03-23 13:39:52   \n",
            "7    2022-03-10 09:32:43  2022-03-16 04:42:39   \n",
            "..                   ...                  ...   \n",
            "494  2021-06-30 07:52:51  2021-09-19 03:14:52   \n",
            "496  2021-06-30 07:52:37  2021-12-05 02:17:31   \n",
            "497  2021-06-30 07:52:30  2021-12-03 11:42:29   \n",
            "498  2021-06-30 07:52:20  2022-03-01 12:43:14   \n",
            "499  2021-06-30 07:43:15  2021-09-20 09:54:13   \n",
            "\n",
            "                                               message  \\\n",
            "3                                                  NaN   \n",
            "4                                                  NaN   \n",
            "5                                                  NaN   \n",
            "6                                                  NaN   \n",
            "7                                                  NaN   \n",
            "..                                                 ...   \n",
            "494  योगी का जलवा कायम रोहिंग्याओ ने CM योगी से लगा...   \n",
            "496  योगी का जलवा कायम रोहिंग्याओ ने CM योगी से लगा...   \n",
            "497  योगी का जलवा कायम रोहिंग्याओ ने CM योगी से लगा...   \n",
            "498  योगी का जलवा कायम रोहिंग्याओ ने CM योगी से लगा...   \n",
            "499  योगी का जलवा कायम रोहिंग्याओ ने CM योगी से लगा...   \n",
            "\n",
            "                                                  link  \\\n",
            "3    https://www.facebook.com/hanumansinghsirana/vi...   \n",
            "4    https://www.facebook.com/hanumansinghsirana/vi...   \n",
            "5    https://www.facebook.com/hanumansinghsirana/vi...   \n",
            "6    https://www.facebook.com/hanumansinghsirana/vi...   \n",
            "7    https://www.facebook.com/hanumansinghsirana/vi...   \n",
            "..                                                 ...   \n",
            "494  https://khabarbharattak.com/rohingya-go-back-t...   \n",
            "496  https://khabarbharattak.com/rohingya-go-back-t...   \n",
            "497  https://khabarbharattak.com/rohingya-go-back-t...   \n",
            "498  https://khabarbharattak.com/rohingya-go-back-t...   \n",
            "499  https://khabarbharattak.com/rohingya-go-back-t...   \n",
            "\n",
            "                                               postUrl        id  \\\n",
            "3    https://www.facebook.com/groups/18903401567456...  14557039   \n",
            "4    https://www.facebook.com/groups/79167731427022...  10171991   \n",
            "5    https://www.facebook.com/groups/19988801035048...   9070218   \n",
            "6    https://www.facebook.com/groups/23187667440838...   8295665   \n",
            "7    https://www.facebook.com/groups/25436293726112...  15738239   \n",
            "..                                                 ...       ...   \n",
            "494  https://www.facebook.com/926592994180466/posts...   4286563   \n",
            "496  https://www.facebook.com/2051450165149093/post...  14358564   \n",
            "497  https://www.facebook.com/234540670328769/posts...   2686880   \n",
            "498  https://www.facebook.com/102839014553373/posts...  11637291   \n",
            "499  https://www.facebook.com/637161189807671/posts...   4899067   \n",
            "\n",
            "                                                  name  \\\n",
            "3                I Support Major General G.D. Bakshi💪💪   \n",
            "4                                        BJP HYDERABAD   \n",
            "5    भारतीय जनता पार्टी विधानसभा क्षेत्र भीनमाल विध...   \n",
            "6                                       ABP NEWS GROUP   \n",
            "7                               PVC PIPE MANUFACTURING   \n",
            "..                                                 ...   \n",
            "494                                Amit Shah Fans Team   \n",
            "496                            Tejasvi Surya Fans Club   \n",
            "497                                        IndiaVirals   \n",
            "498           शाह है तो संभव है, मोदी है तो मुमकिन हैं   \n",
            "499                           Dr. Sambit Patra FanClub   \n",
            "\n",
            "                                    handle  \\\n",
            "3                                      NaN   \n",
            "4                                      NaN   \n",
            "5                                      NaN   \n",
            "6                                      NaN   \n",
            "7                                      NaN   \n",
            "..                                     ...   \n",
            "494                   AmitShahFansTeamLive   \n",
            "496                   TejasviSuryaFansClub   \n",
            "497                           udaanupdates   \n",
            "498  ShahHaiToSambhavHaiModiHaiToMumkinHai   \n",
            "499                     SambitPatraFanClub   \n",
            "\n",
            "                                          profileImage  subscriberCount  \\\n",
            "3    https://scontent-sea1-1.xx.fbcdn.net/v/t1.6435...            79903   \n",
            "4    https://scontent-sea1-1.xx.fbcdn.net/v/t1.6435...             4721   \n",
            "5    https://scontent-sea1-1.xx.fbcdn.net/v/t1.6435...            31355   \n",
            "6    https://scontent-sea1-1.xx.fbcdn.net/v/t1.6435...           186649   \n",
            "7    https://scontent-sea1-1.xx.fbcdn.net/v/t1.6435...           323721   \n",
            "..                                                 ...              ...   \n",
            "494  https://scontent-sea1-1.xx.fbcdn.net/v/t1.6435...           145916   \n",
            "496  https://scontent-sea1-1.xx.fbcdn.net/v/t1.6435...            87753   \n",
            "497  https://scontent-sea1-1.xx.fbcdn.net/v/t39.308...           547122   \n",
            "498  https://scontent-sea1-1.xx.fbcdn.net/v/t1.6435...           153898   \n",
            "499  https://scontent-sea1-1.xx.fbcdn.net/v/t1.1816...           505004   \n",
            "\n",
            "                                                  url  platform  \\\n",
            "3     https://www.facebook.com/groups/189034015674567  Facebook   \n",
            "4     https://www.facebook.com/groups/791677314270224  Facebook   \n",
            "5    https://www.facebook.com/groups/1998880103504870  Facebook   \n",
            "6     https://www.facebook.com/groups/231876674408384  Facebook   \n",
            "7    https://www.facebook.com/groups/2543629372611245  Facebook   \n",
            "..                                                ...       ...   \n",
            "494          https://www.facebook.com/926592994180466  Facebook   \n",
            "496         https://www.facebook.com/2051450165149093  Facebook   \n",
            "497          https://www.facebook.com/234540670328769  Facebook   \n",
            "498          https://www.facebook.com/102839014553373  Facebook   \n",
            "499          https://www.facebook.com/637161189807671  Facebook   \n",
            "\n",
            "           platformId     accountType pageAdminTopCountry  \\\n",
            "3     189034015674567  facebook_group                 NaN   \n",
            "4     791677314270224  facebook_group                 NaN   \n",
            "5    1998880103504870  facebook_group                 NaN   \n",
            "6     231876674408384  facebook_group                 NaN   \n",
            "7    2543629372611245  facebook_group                 NaN   \n",
            "..                ...             ...                 ...   \n",
            "494   926592994180466   facebook_page                  IN   \n",
            "496  2051450165149093   facebook_page                  IN   \n",
            "497   234540670328769   facebook_page                  IN   \n",
            "498   102839014553373   facebook_page                  IN   \n",
            "499   637161189807671   facebook_page                  IN   \n",
            "\n",
            "                                       pageDescription      pageCreatedDate  \\\n",
            "3                                                  NaN                  NaN   \n",
            "4                                                  NaN                  NaN   \n",
            "5                                                  NaN                  NaN   \n",
            "6                                                  NaN                  NaN   \n",
            "7                                                  NaN                  NaN   \n",
            "..                                                 ...                  ...   \n",
            "494                                           Fan page  2018-05-13 04:02:13   \n",
            "496                                           Interest  2019-04-13 08:19:05   \n",
            "497  A leading media house empowering people by pro...  2017-01-08 06:52:04   \n",
            "498                                           Interest  2019-12-14 14:01:48   \n",
            "499                                         Politician  2017-03-29 00:34:51   \n",
            "\n",
            "         pageCategory  verified  \n",
            "3                none     False  \n",
            "4                none     False  \n",
            "5                none     False  \n",
            "6                none     False  \n",
            "7                none     False  \n",
            "..                ...       ...  \n",
            "494          FAN_PAGE     False  \n",
            "496  ACTIVITY_GENERAL     False  \n",
            "497         NEWS_SITE     False  \n",
            "498  ACTIVITY_GENERAL     False  \n",
            "499        POLITICIAN     False  \n",
            "\n",
            "[433 rows x 19 columns]\n"
          ]
        }
      ],
      "source": [
        "# drop the actors that matches the original actors list \n",
        "output_new_actors = output_df[~output_df['name'].isin(actors_list)]\n",
        "print (output_new_actors)"
      ]
    },
    {
      "cell_type": "code",
      "source": [
        "# save the new actors dataframe in a csv file \n",
        "output_new_actors.to_csv('/content/drive/MyDrive/PATH_TO_YOUR_DIRECTORY/new_actors_full_dataset.csv') "
      ],
      "metadata": {
        "id": "sujdfDiUgxMQ"
      },
      "execution_count": null,
      "outputs": []
    },
    {
      "cell_type": "code",
      "execution_count": null,
      "metadata": {
        "id": "og612lx2R3VQ",
        "colab": {
          "base_uri": "https://localhost:8080/"
        },
        "outputId": "1354a239-f2cd-4c77-d49d-276826a75d86"
      },
      "outputs": [
        {
          "output_type": "stream",
          "name": "stdout",
          "text": [
            "                    date              updated  \\\n",
            "0    2022-03-13 11:24:58  2022-03-20 19:03:11   \n",
            "1    2022-03-10 09:32:46  2022-04-02 11:09:46   \n",
            "2    2022-03-10 09:32:45  2022-04-02 11:04:14   \n",
            "3    2022-03-10 09:32:44  2022-03-23 13:39:52   \n",
            "4    2022-03-10 09:32:43  2022-03-16 04:42:39   \n",
            "..                   ...                  ...   \n",
            "174  2021-07-01 05:34:50  2022-03-23 08:29:11   \n",
            "175  2021-07-01 05:09:27  2022-03-11 15:07:04   \n",
            "176  2021-06-30 11:35:28  2022-01-24 09:39:26   \n",
            "177  2021-06-30 09:53:24  2022-03-13 21:55:55   \n",
            "178  2021-06-30 08:20:36  2021-11-28 19:47:18   \n",
            "\n",
            "                                               message  \\\n",
            "0                                                  NaN   \n",
            "1                                                  NaN   \n",
            "2                                                  NaN   \n",
            "3                                                  NaN   \n",
            "4                                                  NaN   \n",
            "..                                                 ...   \n",
            "174                                                NaN   \n",
            "175                                                NaN   \n",
            "176                                                NaN   \n",
            "177        all u. p. me saghan abhiyan chalna chahiye.   \n",
            "178  योगी का जलवा कायम, रोहिंग्याओ ने CM योगी से लग...   \n",
            "\n",
            "                                                  link  \\\n",
            "0    https://www.facebook.com/hanumansinghsirana/vi...   \n",
            "1    https://www.facebook.com/hanumansinghsirana/vi...   \n",
            "2    https://www.facebook.com/hanumansinghsirana/vi...   \n",
            "3    https://www.facebook.com/hanumansinghsirana/vi...   \n",
            "4    https://www.facebook.com/hanumansinghsirana/vi...   \n",
            "..                                                 ...   \n",
            "174  https://khabarbharattak.com/rohingya-go-back-t...   \n",
            "175  https://khabarbharattak.com/rohingya-go-back-t...   \n",
            "176  https://khabarbharattak.com/rohingya-go-back-t...   \n",
            "177  https://khabarbharattak.com/rohingya-go-back-t...   \n",
            "178  https://khabarbharattak.com/rohingya-go-back-t...   \n",
            "\n",
            "                                               postUrl        id  \\\n",
            "0    https://www.facebook.com/groups/18903401567456...  14557039   \n",
            "1    https://www.facebook.com/groups/79167731427022...  10171991   \n",
            "2    https://www.facebook.com/groups/19988801035048...   9070218   \n",
            "3    https://www.facebook.com/groups/23187667440838...   8295665   \n",
            "4    https://www.facebook.com/groups/25436293726112...  15738239   \n",
            "..                                                 ...       ...   \n",
            "174  https://www.facebook.com/groups/16600908410170...   9054818   \n",
            "175  https://www.facebook.com/groups/39518660773204...   9064094   \n",
            "176  https://www.facebook.com/groups/26591572424151...   9066631   \n",
            "177  https://www.facebook.com/groups/23369200698744...  15028874   \n",
            "178  https://www.facebook.com/groups/15659505901035...   9054172   \n",
            "\n",
            "                                                  name handle  \\\n",
            "0                I Support Major General G.D. Bakshi💪💪    NaN   \n",
            "1                                        BJP HYDERABAD    NaN   \n",
            "2    भारतीय जनता पार्टी विधानसभा क्षेत्र भीनमाल विध...    NaN   \n",
            "3                                       ABP NEWS GROUP    NaN   \n",
            "4                               PVC PIPE MANUFACTURING    NaN   \n",
            "..                                                 ...    ...   \n",
            "174  Bharatiya Janata Party(BJP)|| भारतीय जनता पार्...    NaN   \n",
            "175                        support manoj tiwari mridul    NaN   \n",
            "176                   Atalji Amar Rahen अटलजी अमर रहें    NaN   \n",
            "177           🚩 हिन्दू हृदय सम्राट योगी आदित्यनाथ जी 🚩    NaN   \n",
            "178  हिन्दू राष्ट्र भारत (ग्रुप में जुड़ते ही 50 लो...    NaN   \n",
            "\n",
            "                                          profileImage  subscriberCount  \\\n",
            "0    https://scontent-sea1-1.xx.fbcdn.net/v/t1.6435...            79903   \n",
            "1    https://scontent-sea1-1.xx.fbcdn.net/v/t1.6435...             4721   \n",
            "2    https://scontent-sea1-1.xx.fbcdn.net/v/t1.6435...            31355   \n",
            "3    https://scontent-sea1-1.xx.fbcdn.net/v/t1.6435...           186649   \n",
            "4    https://scontent-sea1-1.xx.fbcdn.net/v/t1.6435...           323721   \n",
            "..                                                 ...              ...   \n",
            "174  https://scontent-sea1-1.xx.fbcdn.net/v/t39.308...           132817   \n",
            "175  https://scontent-sea1-1.xx.fbcdn.net/v/t1.6435...            69924   \n",
            "176  https://scontent-sea1-1.xx.fbcdn.net/v/t1.6435...            95449   \n",
            "177  https://scontent-sea1-1.xx.fbcdn.net/v/t39.308...             9159   \n",
            "178  https://scontent-sea1-1.xx.fbcdn.net/v/t1.6435...            76073   \n",
            "\n",
            "                                                  url  platform  \\\n",
            "0     https://www.facebook.com/groups/189034015674567  Facebook   \n",
            "1     https://www.facebook.com/groups/791677314270224  Facebook   \n",
            "2    https://www.facebook.com/groups/1998880103504870  Facebook   \n",
            "3     https://www.facebook.com/groups/231876674408384  Facebook   \n",
            "4    https://www.facebook.com/groups/2543629372611245  Facebook   \n",
            "..                                                ...       ...   \n",
            "174   https://www.facebook.com/groups/166009084101702  Facebook   \n",
            "175   https://www.facebook.com/groups/395186607732045  Facebook   \n",
            "176   https://www.facebook.com/groups/265915724241517  Facebook   \n",
            "177  https://www.facebook.com/groups/2336920069874400  Facebook   \n",
            "178  https://www.facebook.com/groups/1565950590103550  Facebook   \n",
            "\n",
            "           platformId     accountType pageAdminTopCountry pageDescription  \\\n",
            "0     189034015674567  facebook_group                 NaN             NaN   \n",
            "1     791677314270224  facebook_group                 NaN             NaN   \n",
            "2    1998880103504870  facebook_group                 NaN             NaN   \n",
            "3     231876674408384  facebook_group                 NaN             NaN   \n",
            "4    2543629372611245  facebook_group                 NaN             NaN   \n",
            "..                ...             ...                 ...             ...   \n",
            "174   166009084101702  facebook_group                 NaN             NaN   \n",
            "175   395186607732045  facebook_group                 NaN             NaN   \n",
            "176   265915724241517  facebook_group                 NaN             NaN   \n",
            "177  2336920069874400  facebook_group                 NaN             NaN   \n",
            "178  1565950590103550  facebook_group                 NaN             NaN   \n",
            "\n",
            "    pageCreatedDate pageCategory  verified  \n",
            "0               NaN         none     False  \n",
            "1               NaN         none     False  \n",
            "2               NaN         none     False  \n",
            "3               NaN         none     False  \n",
            "4               NaN         none     False  \n",
            "..              ...          ...       ...  \n",
            "174             NaN         none     False  \n",
            "175             NaN         none     False  \n",
            "176             NaN         none     False  \n",
            "177             NaN         none     False  \n",
            "178             NaN         none     False  \n",
            "\n",
            "[179 rows x 19 columns]\n"
          ]
        }
      ],
      "source": [
        "# drop duplicates\n",
        "output_new_actors_unique = output_new_actors.drop_duplicates(\"url\", keep='first', ignore_index=True)\n",
        "print (output_new_actors_unique)"
      ]
    },
    {
      "cell_type": "code",
      "execution_count": null,
      "metadata": {
        "id": "LG55oFIBlQtW"
      },
      "outputs": [],
      "source": [
        "# save the new actors dataframe in a csv file \n",
        "output_new_actors_unique.to_csv('/content/drive/MyDrive/PATH_TO_YOUR_DIRECTORY/new_actors.csv') "
      ]
    }
  ],
  "metadata": {
    "colab": {
      "collapsed_sections": [],
      "name": "CT-NASA.ipynb",
      "provenance": []
    },
    "kernelspec": {
      "display_name": "Python 3",
      "name": "python3"
    }
  },
  "nbformat": 4,
  "nbformat_minor": 0
}