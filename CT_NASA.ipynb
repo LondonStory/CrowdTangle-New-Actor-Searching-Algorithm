{
  "cells": [
    {
      "cell_type": "markdown",
      "metadata": {
        "id": "EjXsp9nK7MtA"
      },
      "source": [
        "# **CT-NASA** (**C**rowd**T**angle-**N**ew **A**ctor **S**earching **A**lgorithm)"
      ]
    },
    {
      "cell_type": "markdown",
      "metadata": {
        "id": "aEZvWaoKc_Sd"
      },
      "source": [
        "This is the ipython notebook that exhibits the work flow of CT-NASA, which searches and finds new pages or groups within the entire CrowdTangle database, given a set of URLs by the user.\n",
        "\n",
        "\n",
        "\n",
        "**Research goal:** Given a list of actors, we want to search and identify new actors (i.e. groups or pages) that are (or might be) part of the information network through certain behevaiors, i.e., link sharing, comments, messages, post description etc.\n",
        "\n",
        "\n",
        "In this algorithm, we use the PyCrowdTangle Python wrapper for CrowdTangle API. See the following links for more info on that project. \n",
        "\n",
        "**Pypi:** https://pypi.org/project/PyCrowdTangle/\n",
        "\n",
        "**Github:** https://github.com/UPB-SS1/PyCrowdTangle"
      ]
    },
    {
      "cell_type": "markdown",
      "metadata": {
        "id": "LIIErpPSdq98"
      },
      "source": [
        "## Install PyCrowdTangle and import libraries"
      ]
    },
    {
      "cell_type": "code",
      "execution_count": null,
      "metadata": {
        "id": "ShWpcUEJ13U1"
      },
      "outputs": [],
      "source": [
        "!pip install PyCrowdTangle -q"
      ]
    },
    {
      "cell_type": "markdown",
      "metadata": {
        "id": "9pH2_aOzdzGc"
      },
      "source": [
        "Import Libraries"
      ]
    },
    {
      "cell_type": "code",
      "execution_count": null,
      "metadata": {
        "id": "s9MCEOeG2DK4"
      },
      "outputs": [],
      "source": [
        "import PyCrowdTangle as pct\n",
        "import pandas as pd"
      ]
    },
    {
      "cell_type": "code",
      "execution_count": null,
      "metadata": {
        "colab": {
          "base_uri": "https://localhost:8080/"
        },
        "id": "RfGgwkMLaAg8",
        "outputId": "cdf37a0e-153b-4157-da2f-220fd66ee0ab"
      },
      "outputs": [
        {
          "output_type": "execute_result",
          "data": {
            "text/plain": [
              "['PyCrowdTangle',\n",
              " '__author__',\n",
              " '__builtins__',\n",
              " '__cached__',\n",
              " '__doc__',\n",
              " '__file__',\n",
              " '__loader__',\n",
              " '__name__',\n",
              " '__package__',\n",
              " '__path__',\n",
              " '__spec__',\n",
              " '__version__',\n",
              " 'ct_get_links',\n",
              " 'ct_get_lists',\n",
              " 'ct_get_posts']"
            ]
          },
          "metadata": {},
          "execution_count": 33
        }
      ],
      "source": [
        "dir(pct)"
      ]
    },
    {
      "cell_type": "code",
      "execution_count": null,
      "metadata": {
        "colab": {
          "base_uri": "https://localhost:8080/",
          "height": 37
        },
        "id": "RYJSkFY6a2J8",
        "outputId": "9447375d-472e-4055-8618-6f85e78f50e0"
      },
      "outputs": [
        {
          "output_type": "execute_result",
          "data": {
            "text/plain": [
              "'0.5.0'"
            ],
            "application/vnd.google.colaboratory.intrinsic+json": {
              "type": "string"
            }
          },
          "metadata": {},
          "execution_count": 34
        }
      ],
      "source": [
        "# get version\n",
        "pct.__version__"
      ]
    },
    {
      "cell_type": "code",
      "execution_count": null,
      "metadata": {
        "id": "k0o8rSlKaP-W"
      },
      "outputs": [],
      "source": [
        "# get the api_token from https://apps.crowdtangle.com/\n",
        "# you can locate your API token via your crowdtangle dashboard\n",
        "# under Settings > API Access.\n",
        "token=\"XYZZZZZZYYYYYYXXXXXXUUUUUWWWWW\" #put your token here"
      ]
    },
    {
      "cell_type": "markdown",
      "metadata": {
        "id": "H3fcMM38hh25"
      },
      "source": [
        "## Load CrowdTangle dataset "
      ]
    },
    {
      "cell_type": "code",
      "execution_count": null,
      "metadata": {
        "colab": {
          "base_uri": "https://localhost:8080/"
        },
        "id": "gouoLzz9hrij",
        "outputId": "c2bd960c-6e97-4fdc-c146-6d6f7e9ecc1e"
      },
      "outputs": [
        {
          "output_type": "stream",
          "name": "stdout",
          "text": [
            "Drive already mounted at /content/drive; to attempt to forcibly remount, call drive.mount(\"/content/drive\", force_remount=True).\n"
          ]
        }
      ],
      "source": [
        "from google.colab import drive\n",
        "drive.mount('/content/drive')"
      ]
    },
    {
      "cell_type": "code",
      "execution_count": null,
      "metadata": {
        "id": "eiaHs_EIjfyp"
      },
      "outputs": [],
      "source": [
        "import os\n",
        "os.chdir(\"/content/drive/MyDrive/YOUR_DIRECTORY_PATH\")"
      ]
    },
    {
      "cell_type": "code",
      "execution_count": null,
      "metadata": {
        "id": "ti5Z1NHqjPH9"
      },
      "outputs": [],
      "source": [
        "import pandas as pd\n",
        "import time"
      ]
    },
    {
      "cell_type": "code",
      "execution_count": null,
      "metadata": {
        "id": "6vzoPX64h6sw"
      },
      "outputs": [],
      "source": [
        "# put the data file name below\n",
        "csv_data = pd.read_csv(\"data_file.csv\", low_memory=False,  lineterminator='\\n', sep=';', error_bad_lines=False)"
      ]
    },
    {
      "cell_type": "code",
      "execution_count": null,
      "metadata": {
        "colab": {
          "base_uri": "https://localhost:8080/"
        },
        "id": "8Yv5XBIOkxy4",
        "outputId": "41da5f26-3264-4d29-9fc6-46c152d5aa84"
      },
      "outputs": [
        {
          "output_type": "execute_result",
          "data": {
            "text/plain": [
              "(315169, 40)"
            ]
          },
          "metadata": {},
          "execution_count": 40
        }
      ],
      "source": [
        "csv_data.shape"
      ]
    },
    {
      "cell_type": "code",
      "execution_count": null,
      "metadata": {
        "colab": {
          "base_uri": "https://localhost:8080/"
        },
        "id": "uHNiF9fGk_H4",
        "outputId": "1e7019dd-2e57-4bff-ccea-3caba11af03e"
      },
      "outputs": [
        {
          "output_type": "execute_result",
          "data": {
            "text/plain": [
              "Index(['account.name', 'account.handle', 'platformId', 'Page Category',\n",
              "       'Page Admin Top Country', 'Page Description', 'Page Created',\n",
              "       'subscriberCount', 'Followers at Posting', 'date', 'Post Created Date',\n",
              "       'Post Created Time', 'type', 'totalInteraction',\n",
              "       'statistics.actual.likeCount', 'statistics.actual.commentCount',\n",
              "       'statistics.actual.shareCount', 'statistics.actual.loveCount',\n",
              "       'statistics.actual.wowCount', 'statistics.actual.hahaCount',\n",
              "       'statistics.actual.sadCount', 'statistics.actual.angryCount',\n",
              "       'statistics.actual.careCount', 'Video Share Status', 'Is Video Owner?',\n",
              "       'statistics.actual.videoPostViewCount',\n",
              "       'statistics.actual.videoTotalViewCount',\n",
              "       'statistics.actual.videoAllCrosspostsViewCount', 'Video Length',\n",
              "       'postUrl', 'message', 'expandedLinks.original',\n",
              "       'expandedLinks.expanded', 'imageText', 'title', 'description',\n",
              "       'brandedContentSponsor.platformId', 'brandedContentSponsor.name',\n",
              "       'brandedContentSponsor.category', 'score'],\n",
              "      dtype='object')"
            ]
          },
          "metadata": {},
          "execution_count": 41
        }
      ],
      "source": [
        "csv_data.columns"
      ]
    },
    {
      "cell_type": "markdown",
      "metadata": {
        "id": "vYbZNXCmlSqQ"
      },
      "source": [
        "## Pre-processing of the dataset"
      ]
    },
    {
      "cell_type": "markdown",
      "source": [
        "Let's identify the unique actors present in the loaded dataset and create a list out of them."
      ],
      "metadata": {
        "id": "eOgoXkO8722D"
      }
    },
    {
      "cell_type": "code",
      "execution_count": null,
      "metadata": {
        "id": "TgFgpkeJqbU4"
      },
      "outputs": [],
      "source": [
        "actors_list = csv_data['account.name'].dropna().unique()\n",
        "print (\"Total number of unique actors within the dataset:\", actors_list.size)\n",
        "\n",
        "for i in range (actors_list.size):\n",
        "  print (actors_list [i]) "
      ]
    },
    {
      "cell_type": "markdown",
      "source": [
        "Let us now identify the top links/URLs present in the dataset"
      ],
      "metadata": {
        "id": "dQEPO5cR8QPx"
      }
    },
    {
      "cell_type": "code",
      "execution_count": null,
      "metadata": {
        "colab": {
          "base_uri": "https://localhost:8080/"
        },
        "id": "UlSo8p8flWcM",
        "outputId": "35f4eafe-0393-49e7-a8c9-3bf6b2b3c924"
      },
      "outputs": [
        {
          "output_type": "execute_result",
          "data": {
            "text/plain": [
              "https://www.facebook.com/hanumansinghsirana/videos/1951535514949751/                              28\n",
              "http://www.akhandbharatimes.com/                                                                  20\n",
              "https://janganapp.page.link/X42f                                                                  19\n",
              "https://www.facebook.com/pushpendrakuldelhi001/videos/332266691549294/                            15\n",
              "https://sachkhabar.co.in/now-biden-wants-modis-help-immediately-only-india-can-save-the-world/    13\n",
              "                                                                                                  ..\n",
              "https://www.facebook.com/pradeepBhajpa/videos/434140024317184/                                     1\n",
              "https://www.facebook.com/photo.php?fbid=1844342252408908&set=p.1844342252408908&type=3             1\n",
              "https://www.facebook.com/photo.php?fbid=2086761884799509&set=gm.2009189855886754&type=3            1\n",
              "https://www.facebook.com/203867673485517/photos/a.203869050152046/952309761974634/?type=3          1\n",
              "https://www.facebook.com/ProudToBeHindu.org/photos/a.425595337513853/1515651375174905/?type=3      1\n",
              "Name: expandedLinks.original, Length: 237746, dtype: int64"
            ]
          },
          "metadata": {},
          "execution_count": 43
        }
      ],
      "source": [
        "# top links \n",
        "\n",
        "csv_data ['expandedLinks.original'].value_counts()"
      ]
    },
    {
      "cell_type": "markdown",
      "source": [
        "Select a sub-set of the top URLs"
      ],
      "metadata": {
        "id": "9feWsM5q8Y7B"
      }
    },
    {
      "cell_type": "code",
      "execution_count": null,
      "metadata": {
        "colab": {
          "base_uri": "https://localhost:8080/"
        },
        "id": "ZTzZgXhSvGKT",
        "outputId": "eee0c856-bf43-42a9-fab8-072d256e11cb"
      },
      "outputs": [
        {
          "output_type": "stream",
          "name": "stdout",
          "text": [
            "https://www.facebook.com/hanumansinghsirana/videos/1951535514949751/\n",
            "http://www.akhandbharatimes.com/\n",
            "https://janganapp.page.link/X42f\n",
            "https://www.facebook.com/pushpendrakuldelhi001/videos/332266691549294/\n",
            "https://sachkhabar.co.in/now-biden-wants-modis-help-immediately-only-india-can-save-the-world/\n",
            "https://www.facebook.com/251541358337843\n",
            "https://sachkhabar.co.in/modi-governments-big-blow-to-zakir-naik/\n",
            "https://www.facebook.com/462116500605383\n"
          ]
        }
      ],
      "source": [
        "# top N links\n",
        "N=8 # choose any number for N\n",
        "\n",
        "URL_list = csv_data ['expandedLinks.original'].dropna().value_counts() [:N].index.tolist()\n",
        "\n",
        "import numpy as np\n",
        "for i in range (np.size(URL_list)):\n",
        "  print (URL_list[i]) "
      ]
    },
    {
      "cell_type": "markdown",
      "metadata": {
        "id": "pkKKH6i2fYud"
      },
      "source": [
        "## Use *ct_get_links* function to retrieve a set of posts matching a set of URLs"
      ]
    },
    {
      "cell_type": "code",
      "execution_count": null,
      "metadata": {
        "colab": {
          "base_uri": "https://localhost:8080/"
        },
        "id": "bGh4Gt5mh0z-",
        "outputId": "817b9802-aa2d-4637-b0b1-c04cf38b568c"
      },
      "outputs": [
        {
          "output_type": "stream",
          "name": "stdout",
          "text": [
            " Retrieve a set of posts matching a certain link.\n",
            "\n",
            "    Args:\n",
            "        link (str): The link to query by. Required.\n",
            "        platforms (str, optional): The platforms from which to retrieve links. This value can be comma-separated.\n",
            "                                   options: facebook, instagram, reddit. Defaults to 'facebook'.\n",
            "        count (int, optional): The number of posts to return. Defaults to 100. options [1-100]\n",
            "        start_date (str, optional): The earliest date at which a post could be posted. Time zone is UTC. \n",
            "                                    Format is “yyyy-mm-ddThh:mm:ss” or “yyyy-mm-dd” \n",
            "                                    (defaults to time 00:00:00).\n",
            "        end_date (str, optional):  The latest date at which a post could be posted.\n",
            "                                  Time zone is UTC. Format is “yyyy-mm-ddThh:mm:ss”\n",
            "                                  or “yyyy-mm-dd” (defaults to time 00:00:00).\n",
            "                                  Defaults to \"now\".\n",
            "        include_history (str, optional): Includes timestep data for growth of each post returned.\n",
            "                                         Defaults to null (not included). options: 'true'\n",
            "        include_summary (str, optional): Adds a \"summary\" section with AccountStatistics for \n",
            "                                         each platform that has posted this link. It will look beyond \n",
            "                                         the count requested to summarize across the time searched. \n",
            "                                         Requires a value for startDate.\n",
            "                                         Defaults to false. options: 'true' , 'false'\n",
            "\n",
            "        offset (int, optional):   The number of posts to offset (generally used for pagination). \n",
            "                                  Pagination links will also be provided in the response.\n",
            "                                  Defaults to 0. options >= 0\n",
            "\n",
            "        sortBy (str, optional):   The method by which to order posts (defaults to the most recent).\n",
            "                                  If subscriber_count, a startDate is required.\n",
            "                                  Defaults to 'date'. options: 'subscriber_count' , 'total_interactions'\n",
            "\n",
            "        api_token (str, optional): you can locate your API token via your crowdtangle dashboard\n",
            "                                   under Settings > API Access.\n",
            "\n",
            "    Raises:\n",
            "        ValueError: \"link was empty\"\n",
            "        ValueError: \"api_token variable is empty\"\n",
            "\n",
            "    Returns:\n",
            "        [dict]: The Response contains both a status code and a result. The status will always\n",
            "                be 200 if there is no error. The result contains an array of post objects and\n",
            "                a pagination object with URLs for both the next and previous page, if they exist\n",
            "    \n",
            "    Example:\n",
            "        ct_get_links(link= 'http://www.queenonline.com/', platforms='facebook',\n",
            "                     start_date='2019-01-01', include_history = 'true',\n",
            "                     sortBy = 'date', api_token=\"AKJHXDFYTGEBKRJ6535\")\n",
            "    \n"
          ]
        }
      ],
      "source": [
        "print(pct.ct_get_links.__doc__)"
      ]
    },
    {
      "cell_type": "markdown",
      "source": [
        "Let's now define the function to get all accounts who are associated with a link"
      ],
      "metadata": {
        "id": "eWNQpFCgiamb"
      }
    },
    {
      "cell_type": "code",
      "execution_count": null,
      "metadata": {
        "id": "NAARoke55-Nu"
      },
      "outputs": [],
      "source": [
        "def get_all_posts (URL, start_date, api_token):\n",
        "  data = pct.ct_get_links(link=URL, include_history = 'true', platforms= ('facebook'), start_date=start_date,api_token=api_token)\n",
        "  df = pd.DataFrame(data['result']['posts'])\n",
        "  return df"
      ]
    },
    {
      "cell_type": "markdown",
      "source": [
        "Function to extract particular account details from the dictionary"
      ],
      "metadata": {
        "id": "NRQZW-DcioAO"
      }
    },
    {
      "cell_type": "code",
      "execution_count": null,
      "metadata": {
        "id": "YFU6jNT3g4-O"
      },
      "outputs": [],
      "source": [
        "def get_dict (df, output_df):\n",
        "  #keys_to_extract = ['name', 'handle', 'profileImage', 'subscriberCount', 'url', 'platform', 'platformId', 'accountType', 'pageAdminTopCountry', 'pageDescription', 'pageCreatedDate', 'pageCategory', 'verified']\n",
        "  for i in range (len(df)):\n",
        "    #account_subset = {key: account_df[i] [key] for key in keys_to_extract}\n",
        "    \n",
        "    #platformId_dict = {'platformId' : df['platformId'][i]}\n",
        "    date_dict = {'date' : df['date'][i]}\n",
        "    updated_dict = {'updated' : df['updated'][i]}\n",
        "    account_dict = df['account'][i]\n",
        "    #caption_dict = {'caption' : df['caption'][i]}\n",
        "    message_dict = {'message' : df['message'][i]}\n",
        "    link_dict = {'link' : df['link'][i]}\n",
        "    postUrl_dict = {'postUrl' : df['postUrl'][i]}\n",
        "\n",
        "    extracted_dict = {**date_dict, **updated_dict, **message_dict, **link_dict, **postUrl_dict, **account_dict}\n",
        "    \n",
        "    extracted_dict_df = pd.DataFrame([extracted_dict])\n",
        "    output_df = pd.concat ([output_df, extracted_dict_df], ignore_index=True)\n",
        "  return output_df"
      ]
    },
    {
      "cell_type": "code",
      "execution_count": null,
      "metadata": {
        "id": "jvWwSpqKj5LZ",
        "colab": {
          "base_uri": "https://localhost:8080/"
        },
        "outputId": "46e3e11a-45d0-484f-9664-aac6b11c643a"
      },
      "outputs": [
        {
          "output_type": "stream",
          "name": "stdout",
          "text": [
            "                    date              updated  \\\n",
            "0    2022-05-07 03:03:01  2022-05-08 18:32:54   \n",
            "1    2022-04-10 13:37:50  2022-05-02 17:23:42   \n",
            "2    2022-04-10 13:37:49  2022-04-13 14:49:45   \n",
            "3    2022-04-10 13:37:48  2022-05-03 15:45:48   \n",
            "4    2022-04-10 13:37:47  2022-05-05 07:29:45   \n",
            "..                   ...                  ...   \n",
            "456  2021-11-16 13:51:28  2022-03-07 16:55:56   \n",
            "457  2021-11-16 13:51:22  2022-04-02 18:54:39   \n",
            "458  2021-11-16 13:46:20  2022-04-08 01:35:08   \n",
            "459  2021-11-16 13:40:01  2021-12-13 07:24:16   \n",
            "460  2021-11-16 13:40:00  2021-12-11 11:56:17   \n",
            "\n",
            "                                               message  \\\n",
            "0                                                  NaN   \n",
            "1                                                  NaN   \n",
            "2                                                  NaN   \n",
            "3                                                  NaN   \n",
            "4                                                  NaN   \n",
            "..                                                 ...   \n",
            "456  भगोड़े जाकिर नाइक पर मोदी सरकार का जबरदस्त प्रह...   \n",
            "457  भगोड़े जाकिर नाइक पर मोदी सरकार का जबरदस्त प्रह...   \n",
            "458  भगोड़े जाकिर नाइक पर मोदी सरकार का जबरदस्त प्रह...   \n",
            "459                                                NaN   \n",
            "460                                                NaN   \n",
            "\n",
            "                                                  link  \\\n",
            "0    https://www.facebook.com/hanumansinghsirana/vi...   \n",
            "1    https://www.facebook.com/hanumansinghsirana/vi...   \n",
            "2    https://www.facebook.com/hanumansinghsirana/vi...   \n",
            "3    https://www.facebook.com/hanumansinghsirana/vi...   \n",
            "4    https://www.facebook.com/hanumansinghsirana/vi...   \n",
            "..                                                 ...   \n",
            "456  https://sachkhabar.co.in/modi-governments-big-...   \n",
            "457  https://sachkhabar.co.in/modi-governments-big-...   \n",
            "458  https://sachkhabar.co.in/modi-governments-big-...   \n",
            "459  https://sachkhabar.co.in/modi-governments-big-...   \n",
            "460  https://sachkhabar.co.in/modi-governments-big-...   \n",
            "\n",
            "                                               postUrl        id  \\\n",
            "0    https://www.facebook.com/groups/31327128233932...   9062940   \n",
            "1    https://www.facebook.com/groups/79167731427022...  10171991   \n",
            "2    https://www.facebook.com/groups/25436293726112...  15738239   \n",
            "3    https://www.facebook.com/groups/19988801035048...   9070218   \n",
            "4    https://www.facebook.com/groups/19441473592441...   5180687   \n",
            "..                                                 ...       ...   \n",
            "456  https://www.facebook.com/100051794229415/posts...  15850263   \n",
            "457  https://www.facebook.com/100063803915990/posts...  17911831   \n",
            "458  https://www.facebook.com/637161189807671/posts...   4899067   \n",
            "459  https://www.facebook.com/181677165761581/posts...  15331318   \n",
            "460  https://www.facebook.com/104613834505392/posts...  11374663   \n",
            "\n",
            "                                                  name  \\\n",
            "0                           The Kapil Sharma  Fan Club   \n",
            "1                                        BJP HYDERABAD   \n",
            "2                               PVC PIPE MANUFACTURING   \n",
            "3    भारतीय जनता पार्टी विधानसभा क्षेत्र भीनमाल विध...   \n",
            "4                                           Jagat News   \n",
            "..                                                 ...   \n",
            "456                      Dr.Sudhanshu Trivedi Fan Club   \n",
            "457                  We Support Pushpendra Kulshrestha   \n",
            "458                           Dr. Sambit Patra FanClub   \n",
            "459                                  भारत समाचार संगठन   \n",
            "460                                      Sanatan Press   \n",
            "\n",
            "                                          profileImage  subscriberCount  \\\n",
            "0    https://scontent-sea1-1.xx.fbcdn.net/v/t1.6435...           647586   \n",
            "1    https://scontent-sea1-1.xx.fbcdn.net/v/t1.6435...             4782   \n",
            "2    https://scontent-sea1-1.xx.fbcdn.net/v/t1.6435...           323011   \n",
            "3    https://scontent-sea1-1.xx.fbcdn.net/v/t1.6435...            31332   \n",
            "4    https://scontent-sea1-1.xx.fbcdn.net/v/t1.6435...            20243   \n",
            "..                                                 ...              ...   \n",
            "456  https://scontent-sea1-1.xx.fbcdn.net/v/t39.308...            33431   \n",
            "457  https://scontent-sea1-1.xx.fbcdn.net/v/t39.308...            16181   \n",
            "458  https://scontent-sea1-1.xx.fbcdn.net/v/t39.308...           504640   \n",
            "459  https://scontent-sea1-1.xx.fbcdn.net/v/t39.308...            42794   \n",
            "460  https://scontent-sea1-1.xx.fbcdn.net/v/t1.6435...           220830   \n",
            "\n",
            "                                                  url  platform  \\\n",
            "0     https://www.facebook.com/groups/313271282339324  Facebook   \n",
            "1     https://www.facebook.com/groups/791677314270224  Facebook   \n",
            "2    https://www.facebook.com/groups/2543629372611245  Facebook   \n",
            "3    https://www.facebook.com/groups/1998880103504870  Facebook   \n",
            "4           https://www.facebook.com/1944147359244100  Facebook   \n",
            "..                                                ...       ...   \n",
            "456          https://www.facebook.com/100241491417806  Facebook   \n",
            "457          https://www.facebook.com/100063803915990  Facebook   \n",
            "458          https://www.facebook.com/637161189807671  Facebook   \n",
            "459          https://www.facebook.com/181677165761581  Facebook   \n",
            "460          https://www.facebook.com/104613834505392  Facebook   \n",
            "\n",
            "           platformId     accountType        pageCategory  verified  \\\n",
            "0     313271282339324  facebook_group                none     False   \n",
            "1     791677314270224  facebook_group                none     False   \n",
            "2    2543629372611245  facebook_group                none     False   \n",
            "3    1998880103504870  facebook_group                none     False   \n",
            "4    1944147359244100  facebook_group                none     False   \n",
            "..                ...             ...                 ...       ...   \n",
            "456   100051794229415   facebook_page       PERSONAL_BLOG     False   \n",
            "457   100063803915990   facebook_page       PERSONAL_BLOG     False   \n",
            "458   100045289444849   facebook_page          POLITICIAN     False   \n",
            "459   100065083029246   facebook_page  MEDIA_NEWS_COMPANY     False   \n",
            "460   104613834505392   facebook_page  MEDIA_NEWS_COMPANY     False   \n",
            "\n",
            "                      handle pageAdminTopCountry  \\\n",
            "0                        NaN                 NaN   \n",
            "1                        NaN                 NaN   \n",
            "2                        NaN                 NaN   \n",
            "3                        NaN                 NaN   \n",
            "4                        NaN                 NaN   \n",
            "..                       ...                 ...   \n",
            "456                                          NaN   \n",
            "457                                          NaN   \n",
            "458       SambitPatraFanClub                  IN   \n",
            "459   bharatsamacharsangthan                  IN   \n",
            "460  thesanatanpressofficial                  IN   \n",
            "\n",
            "                                       pageDescription      pageCreatedDate  \n",
            "0                                                  NaN                  NaN  \n",
            "1                                                  NaN                  NaN  \n",
            "2                                                  NaN                  NaN  \n",
            "3                                                  NaN                  NaN  \n",
            "4                                                  NaN                  NaN  \n",
            "..                                                 ...                  ...  \n",
            "456                                      Personal Blog  2019-10-24 17:37:26  \n",
            "457                             Pushpendra Kulshrestha  2020-12-31 08:26:51  \n",
            "458                                         Politician  2017-03-29 00:34:51  \n",
            "459                               Najar Har Khabar par  2017-12-06 08:42:20  \n",
            "460  Sanatan Press is a completely non-political we...  2020-03-15 06:36:34  \n",
            "\n",
            "[461 rows x 19 columns]\n"
          ]
        }
      ],
      "source": [
        "start_date = '2019-01-01'\n",
        "\n",
        "output_df = pd.DataFrame()\n",
        "\n",
        "for i in range (np.size(URL_list)):\n",
        "  df = get_all_posts (str(URL_list[i]), start_date, token)\n",
        "  output_df = get_dict (df, output_df)\n",
        "\n",
        "  if i < (np.size(URL_list)-1):\n",
        "    time.sleep (31)\n",
        "\n",
        "print (output_df)"
      ]
    },
    {
      "cell_type": "markdown",
      "source": [
        "## Post-processing of the dataset"
      ],
      "metadata": {
        "id": "dGitLszXz-VK"
      }
    },
    {
      "cell_type": "markdown",
      "source": [
        "Drop the actors that match the original actors list "
      ],
      "metadata": {
        "id": "7C13LFqWzs4K"
      }
    },
    {
      "cell_type": "code",
      "execution_count": null,
      "metadata": {
        "id": "N2FMeXB7-O6T",
        "colab": {
          "base_uri": "https://localhost:8080/"
        },
        "outputId": "bf7f76c7-727e-4b2c-964a-92b31c16bd5f"
      },
      "outputs": [
        {
          "output_type": "stream",
          "name": "stdout",
          "text": [
            "                    date              updated  \\\n",
            "0    2022-05-07 03:03:01  2022-05-08 18:32:54   \n",
            "1    2022-04-10 13:37:50  2022-05-02 17:23:42   \n",
            "2    2022-04-10 13:37:49  2022-04-13 14:49:45   \n",
            "3    2022-04-10 13:37:48  2022-05-03 15:45:48   \n",
            "4    2022-04-10 13:37:47  2022-05-05 07:29:45   \n",
            "..                   ...                  ...   \n",
            "455  2021-11-16 13:51:36  2021-12-17 00:04:43   \n",
            "456  2021-11-16 13:51:28  2022-03-07 16:55:56   \n",
            "458  2021-11-16 13:46:20  2022-04-08 01:35:08   \n",
            "459  2021-11-16 13:40:01  2021-12-13 07:24:16   \n",
            "460  2021-11-16 13:40:00  2021-12-11 11:56:17   \n",
            "\n",
            "                                               message  \\\n",
            "0                                                  NaN   \n",
            "1                                                  NaN   \n",
            "2                                                  NaN   \n",
            "3                                                  NaN   \n",
            "4                                                  NaN   \n",
            "..                                                 ...   \n",
            "455  भगोड़े जाकिर नाइक पर मोदी सरकार का जबरदस्त प्रह...   \n",
            "456  भगोड़े जाकिर नाइक पर मोदी सरकार का जबरदस्त प्रह...   \n",
            "458  भगोड़े जाकिर नाइक पर मोदी सरकार का जबरदस्त प्रह...   \n",
            "459                                                NaN   \n",
            "460                                                NaN   \n",
            "\n",
            "                                                  link  \\\n",
            "0    https://www.facebook.com/hanumansinghsirana/vi...   \n",
            "1    https://www.facebook.com/hanumansinghsirana/vi...   \n",
            "2    https://www.facebook.com/hanumansinghsirana/vi...   \n",
            "3    https://www.facebook.com/hanumansinghsirana/vi...   \n",
            "4    https://www.facebook.com/hanumansinghsirana/vi...   \n",
            "..                                                 ...   \n",
            "455  https://sachkhabar.co.in/modi-governments-big-...   \n",
            "456  https://sachkhabar.co.in/modi-governments-big-...   \n",
            "458  https://sachkhabar.co.in/modi-governments-big-...   \n",
            "459  https://sachkhabar.co.in/modi-governments-big-...   \n",
            "460  https://sachkhabar.co.in/modi-governments-big-...   \n",
            "\n",
            "                                               postUrl        id  \\\n",
            "0    https://www.facebook.com/groups/31327128233932...   9062940   \n",
            "1    https://www.facebook.com/groups/79167731427022...  10171991   \n",
            "2    https://www.facebook.com/groups/25436293726112...  15738239   \n",
            "3    https://www.facebook.com/groups/19988801035048...   9070218   \n",
            "4    https://www.facebook.com/groups/19441473592441...   5180687   \n",
            "..                                                 ...       ...   \n",
            "455  https://www.facebook.com/114182286939148/posts...  14437020   \n",
            "456  https://www.facebook.com/100051794229415/posts...  15850263   \n",
            "458  https://www.facebook.com/637161189807671/posts...   4899067   \n",
            "459  https://www.facebook.com/181677165761581/posts...  15331318   \n",
            "460  https://www.facebook.com/104613834505392/posts...  11374663   \n",
            "\n",
            "                                                  name  \\\n",
            "0                           The Kapil Sharma  Fan Club   \n",
            "1                                        BJP HYDERABAD   \n",
            "2                               PVC PIPE MANUFACTURING   \n",
            "3    भारतीय जनता पार्टी विधानसभा क्षेत्र भीनमाल विध...   \n",
            "4                                           Jagat News   \n",
            "..                                                 ...   \n",
            "455                                    We support yogi   \n",
            "456                      Dr.Sudhanshu Trivedi Fan Club   \n",
            "458                           Dr. Sambit Patra FanClub   \n",
            "459                                  भारत समाचार संगठन   \n",
            "460                                      Sanatan Press   \n",
            "\n",
            "                                          profileImage  subscriberCount  \\\n",
            "0    https://scontent-sea1-1.xx.fbcdn.net/v/t1.6435...           647586   \n",
            "1    https://scontent-sea1-1.xx.fbcdn.net/v/t1.6435...             4782   \n",
            "2    https://scontent-sea1-1.xx.fbcdn.net/v/t1.6435...           323011   \n",
            "3    https://scontent-sea1-1.xx.fbcdn.net/v/t1.6435...            31332   \n",
            "4    https://scontent-sea1-1.xx.fbcdn.net/v/t1.6435...            20243   \n",
            "..                                                 ...              ...   \n",
            "455  https://scontent-sea1-1.xx.fbcdn.net/v/t39.308...            82893   \n",
            "456  https://scontent-sea1-1.xx.fbcdn.net/v/t39.308...            33431   \n",
            "458  https://scontent-sea1-1.xx.fbcdn.net/v/t39.308...           504640   \n",
            "459  https://scontent-sea1-1.xx.fbcdn.net/v/t39.308...            42794   \n",
            "460  https://scontent-sea1-1.xx.fbcdn.net/v/t1.6435...           220830   \n",
            "\n",
            "                                                  url  platform  \\\n",
            "0     https://www.facebook.com/groups/313271282339324  Facebook   \n",
            "1     https://www.facebook.com/groups/791677314270224  Facebook   \n",
            "2    https://www.facebook.com/groups/2543629372611245  Facebook   \n",
            "3    https://www.facebook.com/groups/1998880103504870  Facebook   \n",
            "4           https://www.facebook.com/1944147359244100  Facebook   \n",
            "..                                                ...       ...   \n",
            "455          https://www.facebook.com/114182286939148  Facebook   \n",
            "456          https://www.facebook.com/100241491417806  Facebook   \n",
            "458          https://www.facebook.com/637161189807671  Facebook   \n",
            "459          https://www.facebook.com/181677165761581  Facebook   \n",
            "460          https://www.facebook.com/104613834505392  Facebook   \n",
            "\n",
            "           platformId     accountType        pageCategory  verified  \\\n",
            "0     313271282339324  facebook_group                none     False   \n",
            "1     791677314270224  facebook_group                none     False   \n",
            "2    2543629372611245  facebook_group                none     False   \n",
            "3    1998880103504870  facebook_group                none     False   \n",
            "4    1944147359244100  facebook_group                none     False   \n",
            "..                ...             ...                 ...       ...   \n",
            "455   100051056315694   facebook_page          POLITICIAN     False   \n",
            "456   100051794229415   facebook_page       PERSONAL_BLOG     False   \n",
            "458   100045289444849   facebook_page          POLITICIAN     False   \n",
            "459   100065083029246   facebook_page  MEDIA_NEWS_COMPANY     False   \n",
            "460   104613834505392   facebook_page  MEDIA_NEWS_COMPANY     False   \n",
            "\n",
            "                      handle pageAdminTopCountry  \\\n",
            "0                        NaN                 NaN   \n",
            "1                        NaN                 NaN   \n",
            "2                        NaN                 NaN   \n",
            "3                        NaN                 NaN   \n",
            "4                        NaN                 NaN   \n",
            "..                       ...                 ...   \n",
            "455                 yogi1429                  IN   \n",
            "456                                          NaN   \n",
            "458       SambitPatraFanClub                  IN   \n",
            "459   bharatsamacharsangthan                  IN   \n",
            "460  thesanatanpressofficial                  IN   \n",
            "\n",
            "                                       pageDescription      pageCreatedDate  \n",
            "0                                                  NaN                  NaN  \n",
            "1                                                  NaN                  NaN  \n",
            "2                                                  NaN                  NaN  \n",
            "3                                                  NaN                  NaN  \n",
            "4                                                  NaN                  NaN  \n",
            "..                                                 ...                  ...  \n",
            "455                          हमारा सपना हिन्दू राष्ट्र  2020-04-28 08:13:48  \n",
            "456                                      Personal Blog  2019-10-24 17:37:26  \n",
            "458                                         Politician  2017-03-29 00:34:51  \n",
            "459                               Najar Har Khabar par  2017-12-06 08:42:20  \n",
            "460  Sanatan Press is a completely non-political we...  2020-03-15 06:36:34  \n",
            "\n",
            "[372 rows x 19 columns]\n"
          ]
        }
      ],
      "source": [
        "output_new_actors = output_df[~output_df['name'].isin(actors_list)]\n",
        "print (output_new_actors)"
      ]
    },
    {
      "cell_type": "markdown",
      "source": [
        "Let's now drop duplicates from the list, so that we are left with only unique names"
      ],
      "metadata": {
        "id": "oSlUaNxs0hqp"
      }
    },
    {
      "cell_type": "code",
      "execution_count": null,
      "metadata": {
        "id": "og612lx2R3VQ",
        "colab": {
          "base_uri": "https://localhost:8080/"
        },
        "outputId": "81deea02-d056-4e82-dff6-e07db159d8e9"
      },
      "outputs": [
        {
          "output_type": "stream",
          "name": "stdout",
          "text": [
            "                    date              updated  \\\n",
            "0    2022-05-07 03:03:01  2022-05-08 18:32:54   \n",
            "1    2022-04-10 13:37:50  2022-05-02 17:23:42   \n",
            "2    2022-04-10 13:37:49  2022-04-13 14:49:45   \n",
            "3    2022-04-10 13:37:48  2022-05-03 15:45:48   \n",
            "4    2022-04-10 13:37:47  2022-05-05 07:29:45   \n",
            "..                   ...                  ...   \n",
            "185  2021-11-16 14:03:38  2021-12-06 21:15:36   \n",
            "186  2021-11-16 13:58:28  2022-03-31 12:17:41   \n",
            "187  2021-11-16 13:56:56  2021-12-13 07:24:15   \n",
            "188  2021-11-16 13:55:54  2021-12-10 11:08:19   \n",
            "189  2021-11-16 13:54:54  2021-12-11 11:07:28   \n",
            "\n",
            "                                               message  \\\n",
            "0                                                  NaN   \n",
            "1                                                  NaN   \n",
            "2                                                  NaN   \n",
            "3                                                  NaN   \n",
            "4                                                  NaN   \n",
            "..                                                 ...   \n",
            "185                                                NaN   \n",
            "186  भगोड़े जाकिर नाइक पर मोदी सरकार का जबरदस्त प्रह...   \n",
            "187  भगोड़े जाकिर नाइक पर मोदी सरकार का जबरदस्त प्रह...   \n",
            "188  भगोड़े जाकिर नाइक पर मोदी सरकार का जबरदस्त प्रह...   \n",
            "189  भगोड़े जाकिर नाइक पर मोदी सरकार का जबरदस्त प्रह...   \n",
            "\n",
            "                                                  link  \\\n",
            "0    https://www.facebook.com/hanumansinghsirana/vi...   \n",
            "1    https://www.facebook.com/hanumansinghsirana/vi...   \n",
            "2    https://www.facebook.com/hanumansinghsirana/vi...   \n",
            "3    https://www.facebook.com/hanumansinghsirana/vi...   \n",
            "4    https://www.facebook.com/hanumansinghsirana/vi...   \n",
            "..                                                 ...   \n",
            "185  https://sachkhabar.co.in/modi-governments-big-...   \n",
            "186  https://sachkhabar.co.in/modi-governments-big-...   \n",
            "187  https://sachkhabar.co.in/modi-governments-big-...   \n",
            "188  https://sachkhabar.co.in/modi-governments-big-...   \n",
            "189  https://sachkhabar.co.in/modi-governments-big-...   \n",
            "\n",
            "                                               postUrl        id  \\\n",
            "0    https://www.facebook.com/groups/31327128233932...   9062940   \n",
            "1    https://www.facebook.com/groups/79167731427022...  10171991   \n",
            "2    https://www.facebook.com/groups/25436293726112...  15738239   \n",
            "3    https://www.facebook.com/groups/19988801035048...   9070218   \n",
            "4    https://www.facebook.com/groups/19441473592441...   5180687   \n",
            "..                                                 ...       ...   \n",
            "185  https://www.facebook.com/481929561817519/posts...  13223933   \n",
            "186  https://www.facebook.com/108130710921668/posts...  17929339   \n",
            "187  https://www.facebook.com/181677165761581/posts...  15331318   \n",
            "188  https://www.facebook.com/100834625120449/posts...  16212667   \n",
            "189  https://www.facebook.com/108087647585081/posts...  14145411   \n",
            "\n",
            "                                                  name  \\\n",
            "0                           The Kapil Sharma  Fan Club   \n",
            "1                                        BJP HYDERABAD   \n",
            "2                               PVC PIPE MANUFACTURING   \n",
            "3    भारतीय जनता पार्टी विधानसभा क्षेत्र भीनमाल विध...   \n",
            "4                                           Jagat News   \n",
            "..                                                 ...   \n",
            "185                    Feet on Earth and Head Sky high   \n",
            "186                                Sonu Sood Fans Club   \n",
            "187                                  भारत समाचार संगठन   \n",
            "188                                        Appear news   \n",
            "189                                  Rupali jagga fans   \n",
            "\n",
            "                                          profileImage  subscriberCount  \\\n",
            "0    https://scontent-sea1-1.xx.fbcdn.net/v/t1.6435...           647586   \n",
            "1    https://scontent-sea1-1.xx.fbcdn.net/v/t1.6435...             4782   \n",
            "2    https://scontent-sea1-1.xx.fbcdn.net/v/t1.6435...           323011   \n",
            "3    https://scontent-sea1-1.xx.fbcdn.net/v/t1.6435...            31332   \n",
            "4    https://scontent-sea1-1.xx.fbcdn.net/v/t1.6435...            20243   \n",
            "..                                                 ...              ...   \n",
            "185  https://scontent-sea1-1.xx.fbcdn.net/v/t1.1816...              498   \n",
            "186  https://scontent-sea1-1.xx.fbcdn.net/v/t1.6435...           104920   \n",
            "187  https://scontent-sea1-1.xx.fbcdn.net/v/t39.308...            42794   \n",
            "188  https://scontent-sea1-1.xx.fbcdn.net/v/t1.6435...            31846   \n",
            "189  https://scontent-sea1-1.xx.fbcdn.net/v/t39.308...            65254   \n",
            "\n",
            "                                                  url  platform  \\\n",
            "0     https://www.facebook.com/groups/313271282339324  Facebook   \n",
            "1     https://www.facebook.com/groups/791677314270224  Facebook   \n",
            "2    https://www.facebook.com/groups/2543629372611245  Facebook   \n",
            "3    https://www.facebook.com/groups/1998880103504870  Facebook   \n",
            "4           https://www.facebook.com/1944147359244100  Facebook   \n",
            "..                                                ...       ...   \n",
            "185          https://www.facebook.com/481929561817519  Facebook   \n",
            "186          https://www.facebook.com/108130710921668  Facebook   \n",
            "187          https://www.facebook.com/181677165761581  Facebook   \n",
            "188          https://www.facebook.com/100834625120449  Facebook   \n",
            "189          https://www.facebook.com/108087647585081  Facebook   \n",
            "\n",
            "           platformId     accountType        pageCategory  verified  \\\n",
            "0     313271282339324  facebook_group                none     False   \n",
            "1     791677314270224  facebook_group                none     False   \n",
            "2    2543629372611245  facebook_group                none     False   \n",
            "3    1998880103504870  facebook_group                none     False   \n",
            "4    1944147359244100  facebook_group                none     False   \n",
            "..                ...             ...                 ...       ...   \n",
            "185   481929561817519   facebook_page           COMMUNITY     False   \n",
            "186   108130710921668   facebook_page           NEWS_SITE     False   \n",
            "187   100065083029246   facebook_page  MEDIA_NEWS_COMPANY     False   \n",
            "188   100834625120449   facebook_page                 ART     False   \n",
            "189   108087647585081   facebook_page              PERSON     False   \n",
            "\n",
            "                        handle pageAdminTopCountry  \\\n",
            "0                          NaN                 NaN   \n",
            "1                          NaN                 NaN   \n",
            "2                          NaN                 NaN   \n",
            "3                          NaN                 NaN   \n",
            "4                          NaN                 NaN   \n",
            "..                         ...                 ...   \n",
            "185  FeetOnEarthAndHeadSkyHigh                 NaN   \n",
            "186                                             IN   \n",
            "187     bharatsamacharsangthan                  IN   \n",
            "188                                             IN   \n",
            "189                 rupali1429                  IN   \n",
            "\n",
            "                                       pageDescription      pageCreatedDate  \n",
            "0                                                  NaN                  NaN  \n",
            "1                                                  NaN                  NaN  \n",
            "2                                                  NaN                  NaN  \n",
            "3                                                  NaN                  NaN  \n",
            "4                                                  NaN                  NaN  \n",
            "..                                                 ...                  ...  \n",
            "185  While progressing never leave the roots; \\nit ...  2012-08-07 15:13:55  \n",
            "186                               News & media website  2020-05-27 16:37:43  \n",
            "187                               Najar Har Khabar par  2017-12-06 08:42:20  \n",
            "188  D R U N K E N is Made For Famous Memer #Kochi ...  2020-09-23 06:17:32  \n",
            "189                                      Public figure  2020-05-22 12:13:30  \n",
            "\n",
            "[190 rows x 19 columns]\n"
          ]
        }
      ],
      "source": [
        "output_new_actors_unique = output_new_actors.drop_duplicates(\"url\", keep='first', ignore_index=True)\n",
        "print (output_new_actors_unique)"
      ]
    },
    {
      "cell_type": "markdown",
      "source": [
        "Print the set of unique new actors"
      ],
      "metadata": {
        "id": "7b0ZR5Fv0n8H"
      }
    },
    {
      "cell_type": "code",
      "source": [
        "print (\"Total number of newly found actors is:\", len(output_new_actors_unique))\n",
        "output_new_actors_unique.head()"
      ],
      "metadata": {
        "colab": {
          "base_uri": "https://localhost:8080/",
          "height": 455
        },
        "id": "QyeySHLlzOza",
        "outputId": "078161cd-c43b-4f4f-b6f0-ce19cef4df24"
      },
      "execution_count": null,
      "outputs": [
        {
          "output_type": "stream",
          "name": "stdout",
          "text": [
            "Total number of newly found actors is: 190\n"
          ]
        },
        {
          "output_type": "execute_result",
          "data": {
            "text/plain": [
              "                  date              updated message  \\\n",
              "0  2022-05-07 03:03:01  2022-05-08 18:32:54     NaN   \n",
              "1  2022-04-10 13:37:50  2022-05-02 17:23:42     NaN   \n",
              "2  2022-04-10 13:37:49  2022-04-13 14:49:45     NaN   \n",
              "3  2022-04-10 13:37:48  2022-05-03 15:45:48     NaN   \n",
              "4  2022-04-10 13:37:47  2022-05-05 07:29:45     NaN   \n",
              "\n",
              "                                                link  \\\n",
              "0  https://www.facebook.com/hanumansinghsirana/vi...   \n",
              "1  https://www.facebook.com/hanumansinghsirana/vi...   \n",
              "2  https://www.facebook.com/hanumansinghsirana/vi...   \n",
              "3  https://www.facebook.com/hanumansinghsirana/vi...   \n",
              "4  https://www.facebook.com/hanumansinghsirana/vi...   \n",
              "\n",
              "                                             postUrl        id  \\\n",
              "0  https://www.facebook.com/groups/31327128233932...   9062940   \n",
              "1  https://www.facebook.com/groups/79167731427022...  10171991   \n",
              "2  https://www.facebook.com/groups/25436293726112...  15738239   \n",
              "3  https://www.facebook.com/groups/19988801035048...   9070218   \n",
              "4  https://www.facebook.com/groups/19441473592441...   5180687   \n",
              "\n",
              "                                                name  \\\n",
              "0                         The Kapil Sharma  Fan Club   \n",
              "1                                      BJP HYDERABAD   \n",
              "2                             PVC PIPE MANUFACTURING   \n",
              "3  भारतीय जनता पार्टी विधानसभा क्षेत्र भीनमाल विध...   \n",
              "4                                         Jagat News   \n",
              "\n",
              "                                        profileImage  subscriberCount  \\\n",
              "0  https://scontent-sea1-1.xx.fbcdn.net/v/t1.6435...           647586   \n",
              "1  https://scontent-sea1-1.xx.fbcdn.net/v/t1.6435...             4782   \n",
              "2  https://scontent-sea1-1.xx.fbcdn.net/v/t1.6435...           323011   \n",
              "3  https://scontent-sea1-1.xx.fbcdn.net/v/t1.6435...            31332   \n",
              "4  https://scontent-sea1-1.xx.fbcdn.net/v/t1.6435...            20243   \n",
              "\n",
              "                                                url  platform  \\\n",
              "0   https://www.facebook.com/groups/313271282339324  Facebook   \n",
              "1   https://www.facebook.com/groups/791677314270224  Facebook   \n",
              "2  https://www.facebook.com/groups/2543629372611245  Facebook   \n",
              "3  https://www.facebook.com/groups/1998880103504870  Facebook   \n",
              "4         https://www.facebook.com/1944147359244100  Facebook   \n",
              "\n",
              "         platformId     accountType pageCategory  verified handle  \\\n",
              "0   313271282339324  facebook_group         none     False    NaN   \n",
              "1   791677314270224  facebook_group         none     False    NaN   \n",
              "2  2543629372611245  facebook_group         none     False    NaN   \n",
              "3  1998880103504870  facebook_group         none     False    NaN   \n",
              "4  1944147359244100  facebook_group         none     False    NaN   \n",
              "\n",
              "  pageAdminTopCountry pageDescription pageCreatedDate  \n",
              "0                 NaN             NaN             NaN  \n",
              "1                 NaN             NaN             NaN  \n",
              "2                 NaN             NaN             NaN  \n",
              "3                 NaN             NaN             NaN  \n",
              "4                 NaN             NaN             NaN  "
            ],
            "text/html": [
              "\n",
              "  <div id=\"df-ea0098bb-e7bb-470b-88d8-fb1285615743\">\n",
              "    <div class=\"colab-df-container\">\n",
              "      <div>\n",
              "<style scoped>\n",
              "    .dataframe tbody tr th:only-of-type {\n",
              "        vertical-align: middle;\n",
              "    }\n",
              "\n",
              "    .dataframe tbody tr th {\n",
              "        vertical-align: top;\n",
              "    }\n",
              "\n",
              "    .dataframe thead th {\n",
              "        text-align: right;\n",
              "    }\n",
              "</style>\n",
              "<table border=\"1\" class=\"dataframe\">\n",
              "  <thead>\n",
              "    <tr style=\"text-align: right;\">\n",
              "      <th></th>\n",
              "      <th>date</th>\n",
              "      <th>updated</th>\n",
              "      <th>message</th>\n",
              "      <th>link</th>\n",
              "      <th>postUrl</th>\n",
              "      <th>id</th>\n",
              "      <th>name</th>\n",
              "      <th>profileImage</th>\n",
              "      <th>subscriberCount</th>\n",
              "      <th>url</th>\n",
              "      <th>platform</th>\n",
              "      <th>platformId</th>\n",
              "      <th>accountType</th>\n",
              "      <th>pageCategory</th>\n",
              "      <th>verified</th>\n",
              "      <th>handle</th>\n",
              "      <th>pageAdminTopCountry</th>\n",
              "      <th>pageDescription</th>\n",
              "      <th>pageCreatedDate</th>\n",
              "    </tr>\n",
              "  </thead>\n",
              "  <tbody>\n",
              "    <tr>\n",
              "      <th>0</th>\n",
              "      <td>2022-05-07 03:03:01</td>\n",
              "      <td>2022-05-08 18:32:54</td>\n",
              "      <td>NaN</td>\n",
              "      <td>https://www.facebook.com/hanumansinghsirana/vi...</td>\n",
              "      <td>https://www.facebook.com/groups/31327128233932...</td>\n",
              "      <td>9062940</td>\n",
              "      <td>The Kapil Sharma  Fan Club</td>\n",
              "      <td>https://scontent-sea1-1.xx.fbcdn.net/v/t1.6435...</td>\n",
              "      <td>647586</td>\n",
              "      <td>https://www.facebook.com/groups/313271282339324</td>\n",
              "      <td>Facebook</td>\n",
              "      <td>313271282339324</td>\n",
              "      <td>facebook_group</td>\n",
              "      <td>none</td>\n",
              "      <td>False</td>\n",
              "      <td>NaN</td>\n",
              "      <td>NaN</td>\n",
              "      <td>NaN</td>\n",
              "      <td>NaN</td>\n",
              "    </tr>\n",
              "    <tr>\n",
              "      <th>1</th>\n",
              "      <td>2022-04-10 13:37:50</td>\n",
              "      <td>2022-05-02 17:23:42</td>\n",
              "      <td>NaN</td>\n",
              "      <td>https://www.facebook.com/hanumansinghsirana/vi...</td>\n",
              "      <td>https://www.facebook.com/groups/79167731427022...</td>\n",
              "      <td>10171991</td>\n",
              "      <td>BJP HYDERABAD</td>\n",
              "      <td>https://scontent-sea1-1.xx.fbcdn.net/v/t1.6435...</td>\n",
              "      <td>4782</td>\n",
              "      <td>https://www.facebook.com/groups/791677314270224</td>\n",
              "      <td>Facebook</td>\n",
              "      <td>791677314270224</td>\n",
              "      <td>facebook_group</td>\n",
              "      <td>none</td>\n",
              "      <td>False</td>\n",
              "      <td>NaN</td>\n",
              "      <td>NaN</td>\n",
              "      <td>NaN</td>\n",
              "      <td>NaN</td>\n",
              "    </tr>\n",
              "    <tr>\n",
              "      <th>2</th>\n",
              "      <td>2022-04-10 13:37:49</td>\n",
              "      <td>2022-04-13 14:49:45</td>\n",
              "      <td>NaN</td>\n",
              "      <td>https://www.facebook.com/hanumansinghsirana/vi...</td>\n",
              "      <td>https://www.facebook.com/groups/25436293726112...</td>\n",
              "      <td>15738239</td>\n",
              "      <td>PVC PIPE MANUFACTURING</td>\n",
              "      <td>https://scontent-sea1-1.xx.fbcdn.net/v/t1.6435...</td>\n",
              "      <td>323011</td>\n",
              "      <td>https://www.facebook.com/groups/2543629372611245</td>\n",
              "      <td>Facebook</td>\n",
              "      <td>2543629372611245</td>\n",
              "      <td>facebook_group</td>\n",
              "      <td>none</td>\n",
              "      <td>False</td>\n",
              "      <td>NaN</td>\n",
              "      <td>NaN</td>\n",
              "      <td>NaN</td>\n",
              "      <td>NaN</td>\n",
              "    </tr>\n",
              "    <tr>\n",
              "      <th>3</th>\n",
              "      <td>2022-04-10 13:37:48</td>\n",
              "      <td>2022-05-03 15:45:48</td>\n",
              "      <td>NaN</td>\n",
              "      <td>https://www.facebook.com/hanumansinghsirana/vi...</td>\n",
              "      <td>https://www.facebook.com/groups/19988801035048...</td>\n",
              "      <td>9070218</td>\n",
              "      <td>भारतीय जनता पार्टी विधानसभा क्षेत्र भीनमाल विध...</td>\n",
              "      <td>https://scontent-sea1-1.xx.fbcdn.net/v/t1.6435...</td>\n",
              "      <td>31332</td>\n",
              "      <td>https://www.facebook.com/groups/1998880103504870</td>\n",
              "      <td>Facebook</td>\n",
              "      <td>1998880103504870</td>\n",
              "      <td>facebook_group</td>\n",
              "      <td>none</td>\n",
              "      <td>False</td>\n",
              "      <td>NaN</td>\n",
              "      <td>NaN</td>\n",
              "      <td>NaN</td>\n",
              "      <td>NaN</td>\n",
              "    </tr>\n",
              "    <tr>\n",
              "      <th>4</th>\n",
              "      <td>2022-04-10 13:37:47</td>\n",
              "      <td>2022-05-05 07:29:45</td>\n",
              "      <td>NaN</td>\n",
              "      <td>https://www.facebook.com/hanumansinghsirana/vi...</td>\n",
              "      <td>https://www.facebook.com/groups/19441473592441...</td>\n",
              "      <td>5180687</td>\n",
              "      <td>Jagat News</td>\n",
              "      <td>https://scontent-sea1-1.xx.fbcdn.net/v/t1.6435...</td>\n",
              "      <td>20243</td>\n",
              "      <td>https://www.facebook.com/1944147359244100</td>\n",
              "      <td>Facebook</td>\n",
              "      <td>1944147359244100</td>\n",
              "      <td>facebook_group</td>\n",
              "      <td>none</td>\n",
              "      <td>False</td>\n",
              "      <td>NaN</td>\n",
              "      <td>NaN</td>\n",
              "      <td>NaN</td>\n",
              "      <td>NaN</td>\n",
              "    </tr>\n",
              "  </tbody>\n",
              "</table>\n",
              "</div>\n",
              "      <button class=\"colab-df-convert\" onclick=\"convertToInteractive('df-ea0098bb-e7bb-470b-88d8-fb1285615743')\"\n",
              "              title=\"Convert this dataframe to an interactive table.\"\n",
              "              style=\"display:none;\">\n",
              "        \n",
              "  <svg xmlns=\"http://www.w3.org/2000/svg\" height=\"24px\"viewBox=\"0 0 24 24\"\n",
              "       width=\"24px\">\n",
              "    <path d=\"M0 0h24v24H0V0z\" fill=\"none\"/>\n",
              "    <path d=\"M18.56 5.44l.94 2.06.94-2.06 2.06-.94-2.06-.94-.94-2.06-.94 2.06-2.06.94zm-11 1L8.5 8.5l.94-2.06 2.06-.94-2.06-.94L8.5 2.5l-.94 2.06-2.06.94zm10 10l.94 2.06.94-2.06 2.06-.94-2.06-.94-.94-2.06-.94 2.06-2.06.94z\"/><path d=\"M17.41 7.96l-1.37-1.37c-.4-.4-.92-.59-1.43-.59-.52 0-1.04.2-1.43.59L10.3 9.45l-7.72 7.72c-.78.78-.78 2.05 0 2.83L4 21.41c.39.39.9.59 1.41.59.51 0 1.02-.2 1.41-.59l7.78-7.78 2.81-2.81c.8-.78.8-2.07 0-2.86zM5.41 20L4 18.59l7.72-7.72 1.47 1.35L5.41 20z\"/>\n",
              "  </svg>\n",
              "      </button>\n",
              "      \n",
              "  <style>\n",
              "    .colab-df-container {\n",
              "      display:flex;\n",
              "      flex-wrap:wrap;\n",
              "      gap: 12px;\n",
              "    }\n",
              "\n",
              "    .colab-df-convert {\n",
              "      background-color: #E8F0FE;\n",
              "      border: none;\n",
              "      border-radius: 50%;\n",
              "      cursor: pointer;\n",
              "      display: none;\n",
              "      fill: #1967D2;\n",
              "      height: 32px;\n",
              "      padding: 0 0 0 0;\n",
              "      width: 32px;\n",
              "    }\n",
              "\n",
              "    .colab-df-convert:hover {\n",
              "      background-color: #E2EBFA;\n",
              "      box-shadow: 0px 1px 2px rgba(60, 64, 67, 0.3), 0px 1px 3px 1px rgba(60, 64, 67, 0.15);\n",
              "      fill: #174EA6;\n",
              "    }\n",
              "\n",
              "    [theme=dark] .colab-df-convert {\n",
              "      background-color: #3B4455;\n",
              "      fill: #D2E3FC;\n",
              "    }\n",
              "\n",
              "    [theme=dark] .colab-df-convert:hover {\n",
              "      background-color: #434B5C;\n",
              "      box-shadow: 0px 1px 3px 1px rgba(0, 0, 0, 0.15);\n",
              "      filter: drop-shadow(0px 1px 2px rgba(0, 0, 0, 0.3));\n",
              "      fill: #FFFFFF;\n",
              "    }\n",
              "  </style>\n",
              "\n",
              "      <script>\n",
              "        const buttonEl =\n",
              "          document.querySelector('#df-ea0098bb-e7bb-470b-88d8-fb1285615743 button.colab-df-convert');\n",
              "        buttonEl.style.display =\n",
              "          google.colab.kernel.accessAllowed ? 'block' : 'none';\n",
              "\n",
              "        async function convertToInteractive(key) {\n",
              "          const element = document.querySelector('#df-ea0098bb-e7bb-470b-88d8-fb1285615743');\n",
              "          const dataTable =\n",
              "            await google.colab.kernel.invokeFunction('convertToInteractive',\n",
              "                                                     [key], {});\n",
              "          if (!dataTable) return;\n",
              "\n",
              "          const docLinkHtml = 'Like what you see? Visit the ' +\n",
              "            '<a target=\"_blank\" href=https://colab.research.google.com/notebooks/data_table.ipynb>data table notebook</a>'\n",
              "            + ' to learn more about interactive tables.';\n",
              "          element.innerHTML = '';\n",
              "          dataTable['output_type'] = 'display_data';\n",
              "          await google.colab.output.renderOutput(dataTable, element);\n",
              "          const docLink = document.createElement('div');\n",
              "          docLink.innerHTML = docLinkHtml;\n",
              "          element.appendChild(docLink);\n",
              "        }\n",
              "      </script>\n",
              "    </div>\n",
              "  </div>\n",
              "  "
            ]
          },
          "metadata": {},
          "execution_count": 53
        }
      ]
    },
    {
      "cell_type": "markdown",
      "source": [
        "Save the new unique actors *raw* list in a csv file (**optional**)"
      ],
      "metadata": {
        "id": "55_N-bZc08uU"
      }
    },
    {
      "cell_type": "code",
      "execution_count": null,
      "metadata": {
        "id": "LG55oFIBlQtW"
      },
      "outputs": [],
      "source": [
        "output_new_actors_unique.to_csv('/content/drive/MyDrive/YOUR_DIRECTORY_PATH/new_actors.csv') "
      ]
    },
    {
      "cell_type": "markdown",
      "source": [
        "Let's now split the Facebook pages and groups within the list of newly found actors"
      ],
      "metadata": {
        "id": "ZU87qUCp0tAU"
      }
    },
    {
      "cell_type": "code",
      "source": [
        "output_new_actors_unique_pages = output_new_actors_unique.loc[output_new_actors_unique['accountType']=='facebook_page']\n",
        "output_new_actors_unique_groups = output_new_actors_unique.loc[output_new_actors_unique['accountType']=='facebook_group']"
      ],
      "metadata": {
        "id": "vS5R3iXw1EOb"
      },
      "execution_count": null,
      "outputs": []
    },
    {
      "cell_type": "markdown",
      "source": [
        "Let's now get a list of those actors whose names contain a set of substring (i.e., media, news etc.). Here we are interested in the **media pages and groups**."
      ],
      "metadata": {
        "id": "qnE6AMPE4kyl"
      }
    },
    {
      "cell_type": "code",
      "source": [
        "new_media_pages = output_new_actors_unique_pages.loc[output_new_actors_unique_pages['name'].str.contains(\"media|Media|News|news|Khabar|khabar\", case=False)]\n",
        "new_media_groups = output_new_actors_unique_groups.loc[output_new_actors_unique_groups['name'].str.contains(\"media|Media|News|news|Khabar|khabar\", case=False)]"
      ],
      "metadata": {
        "id": "ZY9f29yf43dw"
      },
      "execution_count": null,
      "outputs": []
    },
    {
      "cell_type": "code",
      "source": [
        "print (\"Total number of newly found media pages is:\", len(new_media_pages))\n",
        "print (\"Total number of newly found media groups is:\", len(new_media_groups))"
      ],
      "metadata": {
        "colab": {
          "base_uri": "https://localhost:8080/"
        },
        "id": "X3JAC4ux5h7c",
        "outputId": "4f84c28b-81fe-4fbd-cc4f-b3dff4f5f703"
      },
      "execution_count": null,
      "outputs": [
        {
          "output_type": "stream",
          "name": "stdout",
          "text": [
            "Total number of newly found media pages is: 2\n",
            "Total number of newly found media groups is: 13\n"
          ]
        }
      ]
    },
    {
      "cell_type": "markdown",
      "source": [
        "Let's now find out **non-media pages and groups** from the list"
      ],
      "metadata": {
        "id": "19zBEqzxnJYW"
      }
    },
    {
      "cell_type": "code",
      "source": [
        "new_general_pages = output_new_actors_unique_pages.loc[~output_new_actors_unique_pages['name'].str.contains(\"media|Media|News|news|Khabar|khabar\", case=False)]\n",
        "new_general_groups = output_new_actors_unique_groups.loc[~output_new_actors_unique_groups['name'].str.contains(\"media|Media|News|news|Khabar|khabar\", case=False)]"
      ],
      "metadata": {
        "id": "ssgf8Qxjm43l"
      },
      "execution_count": null,
      "outputs": []
    },
    {
      "cell_type": "code",
      "source": [
        "print (\"Total number of newly found non-media pages is:\", len(new_general_pages))\n",
        "print (\"Total number of newly found non-media groups is:\", len(new_general_groups))"
      ],
      "metadata": {
        "colab": {
          "base_uri": "https://localhost:8080/"
        },
        "id": "zaAIHaJzneO6",
        "outputId": "7ea1fee6-e98b-4d40-cb7f-b961db4e8d32"
      },
      "execution_count": null,
      "outputs": [
        {
          "output_type": "stream",
          "name": "stdout",
          "text": [
            "Total number of newly found non-media pages is: 30\n",
            "Total number of newly found non-media groups is: 145\n"
          ]
        }
      ]
    },
    {
      "cell_type": "markdown",
      "source": [
        "## Prepare the different lists of actors (pages and groups) for bulk upload to CrowdTangle"
      ],
      "metadata": {
        "id": "1wqlwYvNp2DM"
      }
    },
    {
      "cell_type": "markdown",
      "source": [
        "Prepare a csv of new **non-media** groups for bulk upload"
      ],
      "metadata": {
        "id": "3NEXhuQb2arZ"
      }
    },
    {
      "cell_type": "code",
      "source": [
        "new_general_groups.columns"
      ],
      "metadata": {
        "colab": {
          "base_uri": "https://localhost:8080/"
        },
        "id": "1dXMGzJuqBEE",
        "outputId": "166962d6-5412-4132-c31a-69c0242fda03"
      },
      "execution_count": null,
      "outputs": [
        {
          "output_type": "execute_result",
          "data": {
            "text/plain": [
              "Index(['date', 'updated', 'message', 'link', 'postUrl', 'id', 'name',\n",
              "       'profileImage', 'subscriberCount', 'url', 'platform', 'platformId',\n",
              "       'accountType', 'pageCategory', 'verified', 'handle',\n",
              "       'pageAdminTopCountry', 'pageDescription', 'pageCreatedDate'],\n",
              "      dtype='object')"
            ]
          },
          "metadata": {},
          "execution_count": 64
        }
      ]
    },
    {
      "cell_type": "code",
      "source": [
        "new_general_groups_csv = new_general_groups[['url']]\n",
        "new_general_groups_csv.rename (columns={'url': 'Page or Account URL'}, inplace=True)\n",
        "new_general_groups_csv['List']='New Group Actors'\n",
        "new_general_groups_csv.head()"
      ],
      "metadata": {
        "colab": {
          "base_uri": "https://localhost:8080/",
          "height": 411
        },
        "id": "XZEsZJzS0v7o",
        "outputId": "c9036b84-66f3-4a55-f4d1-88095f11ea16"
      },
      "execution_count": null,
      "outputs": [
        {
          "output_type": "stream",
          "name": "stderr",
          "text": [
            "/usr/local/lib/python3.7/dist-packages/pandas/core/frame.py:5047: SettingWithCopyWarning: \n",
            "A value is trying to be set on a copy of a slice from a DataFrame\n",
            "\n",
            "See the caveats in the documentation: https://pandas.pydata.org/pandas-docs/stable/user_guide/indexing.html#returning-a-view-versus-a-copy\n",
            "  errors=errors,\n",
            "/usr/local/lib/python3.7/dist-packages/ipykernel_launcher.py:3: SettingWithCopyWarning: \n",
            "A value is trying to be set on a copy of a slice from a DataFrame.\n",
            "Try using .loc[row_indexer,col_indexer] = value instead\n",
            "\n",
            "See the caveats in the documentation: https://pandas.pydata.org/pandas-docs/stable/user_guide/indexing.html#returning-a-view-versus-a-copy\n",
            "  This is separate from the ipykernel package so we can avoid doing imports until\n"
          ]
        },
        {
          "output_type": "execute_result",
          "data": {
            "text/plain": [
              "                                Page or Account URL              List\n",
              "0   https://www.facebook.com/groups/313271282339324  New Group Actors\n",
              "1   https://www.facebook.com/groups/791677314270224  New Group Actors\n",
              "2  https://www.facebook.com/groups/2543629372611245  New Group Actors\n",
              "3  https://www.facebook.com/groups/1998880103504870  New Group Actors\n",
              "6   https://www.facebook.com/groups/606417793051573  New Group Actors"
            ],
            "text/html": [
              "\n",
              "  <div id=\"df-f1a8ef31-c32a-4ebc-a7fc-b83aafbfd6cb\">\n",
              "    <div class=\"colab-df-container\">\n",
              "      <div>\n",
              "<style scoped>\n",
              "    .dataframe tbody tr th:only-of-type {\n",
              "        vertical-align: middle;\n",
              "    }\n",
              "\n",
              "    .dataframe tbody tr th {\n",
              "        vertical-align: top;\n",
              "    }\n",
              "\n",
              "    .dataframe thead th {\n",
              "        text-align: right;\n",
              "    }\n",
              "</style>\n",
              "<table border=\"1\" class=\"dataframe\">\n",
              "  <thead>\n",
              "    <tr style=\"text-align: right;\">\n",
              "      <th></th>\n",
              "      <th>Page or Account URL</th>\n",
              "      <th>List</th>\n",
              "    </tr>\n",
              "  </thead>\n",
              "  <tbody>\n",
              "    <tr>\n",
              "      <th>0</th>\n",
              "      <td>https://www.facebook.com/groups/313271282339324</td>\n",
              "      <td>New Group Actors</td>\n",
              "    </tr>\n",
              "    <tr>\n",
              "      <th>1</th>\n",
              "      <td>https://www.facebook.com/groups/791677314270224</td>\n",
              "      <td>New Group Actors</td>\n",
              "    </tr>\n",
              "    <tr>\n",
              "      <th>2</th>\n",
              "      <td>https://www.facebook.com/groups/2543629372611245</td>\n",
              "      <td>New Group Actors</td>\n",
              "    </tr>\n",
              "    <tr>\n",
              "      <th>3</th>\n",
              "      <td>https://www.facebook.com/groups/1998880103504870</td>\n",
              "      <td>New Group Actors</td>\n",
              "    </tr>\n",
              "    <tr>\n",
              "      <th>6</th>\n",
              "      <td>https://www.facebook.com/groups/606417793051573</td>\n",
              "      <td>New Group Actors</td>\n",
              "    </tr>\n",
              "  </tbody>\n",
              "</table>\n",
              "</div>\n",
              "      <button class=\"colab-df-convert\" onclick=\"convertToInteractive('df-f1a8ef31-c32a-4ebc-a7fc-b83aafbfd6cb')\"\n",
              "              title=\"Convert this dataframe to an interactive table.\"\n",
              "              style=\"display:none;\">\n",
              "        \n",
              "  <svg xmlns=\"http://www.w3.org/2000/svg\" height=\"24px\"viewBox=\"0 0 24 24\"\n",
              "       width=\"24px\">\n",
              "    <path d=\"M0 0h24v24H0V0z\" fill=\"none\"/>\n",
              "    <path d=\"M18.56 5.44l.94 2.06.94-2.06 2.06-.94-2.06-.94-.94-2.06-.94 2.06-2.06.94zm-11 1L8.5 8.5l.94-2.06 2.06-.94-2.06-.94L8.5 2.5l-.94 2.06-2.06.94zm10 10l.94 2.06.94-2.06 2.06-.94-2.06-.94-.94-2.06-.94 2.06-2.06.94z\"/><path d=\"M17.41 7.96l-1.37-1.37c-.4-.4-.92-.59-1.43-.59-.52 0-1.04.2-1.43.59L10.3 9.45l-7.72 7.72c-.78.78-.78 2.05 0 2.83L4 21.41c.39.39.9.59 1.41.59.51 0 1.02-.2 1.41-.59l7.78-7.78 2.81-2.81c.8-.78.8-2.07 0-2.86zM5.41 20L4 18.59l7.72-7.72 1.47 1.35L5.41 20z\"/>\n",
              "  </svg>\n",
              "      </button>\n",
              "      \n",
              "  <style>\n",
              "    .colab-df-container {\n",
              "      display:flex;\n",
              "      flex-wrap:wrap;\n",
              "      gap: 12px;\n",
              "    }\n",
              "\n",
              "    .colab-df-convert {\n",
              "      background-color: #E8F0FE;\n",
              "      border: none;\n",
              "      border-radius: 50%;\n",
              "      cursor: pointer;\n",
              "      display: none;\n",
              "      fill: #1967D2;\n",
              "      height: 32px;\n",
              "      padding: 0 0 0 0;\n",
              "      width: 32px;\n",
              "    }\n",
              "\n",
              "    .colab-df-convert:hover {\n",
              "      background-color: #E2EBFA;\n",
              "      box-shadow: 0px 1px 2px rgba(60, 64, 67, 0.3), 0px 1px 3px 1px rgba(60, 64, 67, 0.15);\n",
              "      fill: #174EA6;\n",
              "    }\n",
              "\n",
              "    [theme=dark] .colab-df-convert {\n",
              "      background-color: #3B4455;\n",
              "      fill: #D2E3FC;\n",
              "    }\n",
              "\n",
              "    [theme=dark] .colab-df-convert:hover {\n",
              "      background-color: #434B5C;\n",
              "      box-shadow: 0px 1px 3px 1px rgba(0, 0, 0, 0.15);\n",
              "      filter: drop-shadow(0px 1px 2px rgba(0, 0, 0, 0.3));\n",
              "      fill: #FFFFFF;\n",
              "    }\n",
              "  </style>\n",
              "\n",
              "      <script>\n",
              "        const buttonEl =\n",
              "          document.querySelector('#df-f1a8ef31-c32a-4ebc-a7fc-b83aafbfd6cb button.colab-df-convert');\n",
              "        buttonEl.style.display =\n",
              "          google.colab.kernel.accessAllowed ? 'block' : 'none';\n",
              "\n",
              "        async function convertToInteractive(key) {\n",
              "          const element = document.querySelector('#df-f1a8ef31-c32a-4ebc-a7fc-b83aafbfd6cb');\n",
              "          const dataTable =\n",
              "            await google.colab.kernel.invokeFunction('convertToInteractive',\n",
              "                                                     [key], {});\n",
              "          if (!dataTable) return;\n",
              "\n",
              "          const docLinkHtml = 'Like what you see? Visit the ' +\n",
              "            '<a target=\"_blank\" href=https://colab.research.google.com/notebooks/data_table.ipynb>data table notebook</a>'\n",
              "            + ' to learn more about interactive tables.';\n",
              "          element.innerHTML = '';\n",
              "          dataTable['output_type'] = 'display_data';\n",
              "          await google.colab.output.renderOutput(dataTable, element);\n",
              "          const docLink = document.createElement('div');\n",
              "          docLink.innerHTML = docLinkHtml;\n",
              "          element.appendChild(docLink);\n",
              "        }\n",
              "      </script>\n",
              "    </div>\n",
              "  </div>\n",
              "  "
            ]
          },
          "metadata": {},
          "execution_count": 89
        }
      ]
    },
    {
      "cell_type": "code",
      "source": [
        "new_general_groups_csv.to_csv('/content/drive/MyDrive/YOUR_DIRECTORY_PATH/new_gen_groups.csv', index=False) "
      ],
      "metadata": {
        "id": "_0ACzvtAxZsC"
      },
      "execution_count": null,
      "outputs": []
    },
    {
      "cell_type": "markdown",
      "source": [
        "Prepare a csv of new **media** groups for bulk upload"
      ],
      "metadata": {
        "id": "dWOSNWBM2lkG"
      }
    },
    {
      "cell_type": "code",
      "source": [
        "new_media_groups_csv = new_media_groups[['url']]\n",
        "new_media_groups_csv.rename (columns={'url': 'Page or Account URL'}, inplace=True)\n",
        "new_media_groups_csv['List']='New Media Group Actors'\n",
        "new_media_groups_csv.head()\n",
        "new_media_groups_csv.to_csv('/content/drive/MyDrive/YOUR_DIRECTORY_PATH/new_media_groups.csv', index=False) "
      ],
      "metadata": {
        "id": "krT3QnDg2tpP"
      },
      "execution_count": null,
      "outputs": []
    },
    {
      "cell_type": "markdown",
      "source": [
        "Prepare a csv of new **non-media pages** for bulk upload"
      ],
      "metadata": {
        "id": "xBiWkYha3L0t"
      }
    },
    {
      "cell_type": "code",
      "source": [
        "new_general_pages_csv = new_general_pages[['url']]\n",
        "new_general_pages_csv.rename (columns={'url': 'Page or Account URL'}, inplace=True)\n",
        "new_general_pages_csv['List']='New Page Actors'\n",
        "new_general_pages_csv.head()\n",
        "new_general_pages_csv.to_csv('/content/drive/MyDrive/YOUR_DIRECTORY_PATH/new_gen_pages.csv', index=False) "
      ],
      "metadata": {
        "id": "m1Z34AIZ4GDQ"
      },
      "execution_count": null,
      "outputs": []
    },
    {
      "cell_type": "markdown",
      "source": [
        "Prepare a csv of new **media pages** for bulk upload"
      ],
      "metadata": {
        "id": "3drGltIf47rx"
      }
    },
    {
      "cell_type": "code",
      "source": [
        "new_media_pages_csv = new_media_pages[['url']]\n",
        "new_media_pages_csv.rename (columns={'url': 'Page or Account URL'}, inplace=True)\n",
        "new_media_pages_csv['List']='New Media Page Actors'\n",
        "new_media_pages_csv.head()\n",
        "new_media_pages_csv.to_csv('/content/drive/MyDrive/YOUR_DIRECTORY_PATH/new_media_pages.csv', index=False) "
      ],
      "metadata": {
        "id": "EF2nrl-g5CeQ"
      },
      "execution_count": null,
      "outputs": []
    }
  ],
  "metadata": {
    "colab": {
      "collapsed_sections": [],
      "name": "CT_NASA.ipynb",
      "provenance": []
    },
    "kernelspec": {
      "display_name": "Python 3",
      "name": "python3"
    }
  },
  "nbformat": 4,
  "nbformat_minor": 0
}